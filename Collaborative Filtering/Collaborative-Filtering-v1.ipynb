{
 "cells": [
  {
   "cell_type": "code",
   "execution_count": null,
   "metadata": {},
   "outputs": [],
   "source": []
  },
  {
   "cell_type": "code",
   "execution_count": 3,
   "metadata": {},
   "outputs": [],
   "source": [
    "import surprise\n",
    "import pandas as pd\n",
    "import numpy as np\n",
    "import matplotlib.pyplot as plt\n",
    "import seaborn as sn\n",
    "\n",
    "%matplotlib inline\n",
    "plt.rcParams['figure.figsize'] = (8, 6)"
   ]
  },
  {
   "cell_type": "code",
   "execution_count": 29,
   "metadata": {},
   "outputs": [],
   "source": [
    "data = pd.read_csv('Data/data_for_collab.csv')"
   ]
  },
  {
   "cell_type": "code",
   "execution_count": 28,
   "metadata": {},
   "outputs": [],
   "source": [
    "reviews_res = pd.read_csv('Data/USres_reviews_2.csv')"
   ]
  },
  {
   "cell_type": "code",
   "execution_count": 4,
   "metadata": {},
   "outputs": [
    {
     "data": {
      "text/html": [
       "<div>\n",
       "<style scoped>\n",
       "    .dataframe tbody tr th:only-of-type {\n",
       "        vertical-align: middle;\n",
       "    }\n",
       "\n",
       "    .dataframe tbody tr th {\n",
       "        vertical-align: top;\n",
       "    }\n",
       "\n",
       "    .dataframe thead th {\n",
       "        text-align: right;\n",
       "    }\n",
       "</style>\n",
       "<table border=\"1\" class=\"dataframe\">\n",
       "  <thead>\n",
       "    <tr style=\"text-align: right;\">\n",
       "      <th></th>\n",
       "      <th>user_id</th>\n",
       "      <th>business_id</th>\n",
       "      <th>stars</th>\n",
       "    </tr>\n",
       "  </thead>\n",
       "  <tbody>\n",
       "    <tr>\n",
       "      <th>0</th>\n",
       "      <td>---1lKK3aKOuomHnwAkAow</td>\n",
       "      <td>--9e1ONYQuAa-CB_Rrw7Tw</td>\n",
       "      <td>4.0</td>\n",
       "    </tr>\n",
       "    <tr>\n",
       "      <th>1</th>\n",
       "      <td>---1lKK3aKOuomHnwAkAow</td>\n",
       "      <td>7vHvQCjPq5pWj7Rio1A--w</td>\n",
       "      <td>1.0</td>\n",
       "    </tr>\n",
       "    <tr>\n",
       "      <th>2</th>\n",
       "      <td>---1lKK3aKOuomHnwAkAow</td>\n",
       "      <td>A0X1baHPgw9IiBRivu0G9g</td>\n",
       "      <td>5.0</td>\n",
       "    </tr>\n",
       "    <tr>\n",
       "      <th>3</th>\n",
       "      <td>---1lKK3aKOuomHnwAkAow</td>\n",
       "      <td>AZlnpvILz5cEWJifjr2CSQ</td>\n",
       "      <td>5.0</td>\n",
       "    </tr>\n",
       "    <tr>\n",
       "      <th>4</th>\n",
       "      <td>---1lKK3aKOuomHnwAkAow</td>\n",
       "      <td>GJBLjDkfJ4tvkpAjDeCikA</td>\n",
       "      <td>1.0</td>\n",
       "    </tr>\n",
       "  </tbody>\n",
       "</table>\n",
       "</div>"
      ],
      "text/plain": [
       "                  user_id             business_id  stars\n",
       "0  ---1lKK3aKOuomHnwAkAow  --9e1ONYQuAa-CB_Rrw7Tw    4.0\n",
       "1  ---1lKK3aKOuomHnwAkAow  7vHvQCjPq5pWj7Rio1A--w    1.0\n",
       "2  ---1lKK3aKOuomHnwAkAow  A0X1baHPgw9IiBRivu0G9g    5.0\n",
       "3  ---1lKK3aKOuomHnwAkAow  AZlnpvILz5cEWJifjr2CSQ    5.0\n",
       "4  ---1lKK3aKOuomHnwAkAow  GJBLjDkfJ4tvkpAjDeCikA    1.0"
      ]
     },
     "execution_count": 4,
     "metadata": {},
     "output_type": "execute_result"
    }
   ],
   "source": [
    "data.head()"
   ]
  },
  {
   "cell_type": "code",
   "execution_count": 5,
   "metadata": {},
   "outputs": [
    {
     "name": "stdout",
     "output_type": "stream",
     "text": [
      "Number of users:  24512\n",
      "Number of items:  16906\n"
     ]
    }
   ],
   "source": [
    "#Create id for user_id and business_id\n",
    "\n",
    "def generate_id_dict(list_old_id):\n",
    "    #Generate a look up dataframe for user_id\n",
    "    new_id = np.arange(len(list_old_id))\n",
    "    #Create a lookup dictionary\n",
    "    id_lookup = pd.DataFrame({'old_id': list_old_id,\n",
    "                                'new_id': new_id})\n",
    "    return id_lookup\n",
    "\n",
    "#Generate user_id for reviews\n",
    "\n",
    "list_user_id = data.user_id.unique().tolist()\n",
    "user_id_lookup = generate_id_dict(list_user_id)\n",
    "\n",
    "#Generate item_id for reviews\n",
    "list_bus_id = data.business_id.unique().tolist()\n",
    "bus_id_lookup = generate_id_dict(list_bus_id)\n",
    "\n",
    "print (\"Number of users: \", user_id_lookup.shape[0])\n",
    "print ('Number of items: ', bus_id_lookup.shape[0])"
   ]
  },
  {
   "cell_type": "code",
   "execution_count": 6,
   "metadata": {},
   "outputs": [
    {
     "data": {
      "text/html": [
       "<div>\n",
       "<style scoped>\n",
       "    .dataframe tbody tr th:only-of-type {\n",
       "        vertical-align: middle;\n",
       "    }\n",
       "\n",
       "    .dataframe tbody tr th {\n",
       "        vertical-align: top;\n",
       "    }\n",
       "\n",
       "    .dataframe thead th {\n",
       "        text-align: right;\n",
       "    }\n",
       "</style>\n",
       "<table border=\"1\" class=\"dataframe\">\n",
       "  <thead>\n",
       "    <tr style=\"text-align: right;\">\n",
       "      <th></th>\n",
       "      <th>user_id</th>\n",
       "      <th>business_id</th>\n",
       "      <th>stars</th>\n",
       "      <th>old_id_x</th>\n",
       "      <th>new_id_x</th>\n",
       "      <th>old_id_y</th>\n",
       "      <th>new_id_y</th>\n",
       "    </tr>\n",
       "  </thead>\n",
       "  <tbody>\n",
       "    <tr>\n",
       "      <th>0</th>\n",
       "      <td>---1lKK3aKOuomHnwAkAow</td>\n",
       "      <td>--9e1ONYQuAa-CB_Rrw7Tw</td>\n",
       "      <td>4.0</td>\n",
       "      <td>--9e1ONYQuAa-CB_Rrw7Tw</td>\n",
       "      <td>0</td>\n",
       "      <td>---1lKK3aKOuomHnwAkAow</td>\n",
       "      <td>0</td>\n",
       "    </tr>\n",
       "    <tr>\n",
       "      <th>1</th>\n",
       "      <td>---1lKK3aKOuomHnwAkAow</td>\n",
       "      <td>7vHvQCjPq5pWj7Rio1A--w</td>\n",
       "      <td>1.0</td>\n",
       "      <td>7vHvQCjPq5pWj7Rio1A--w</td>\n",
       "      <td>1</td>\n",
       "      <td>---1lKK3aKOuomHnwAkAow</td>\n",
       "      <td>0</td>\n",
       "    </tr>\n",
       "    <tr>\n",
       "      <th>2</th>\n",
       "      <td>---1lKK3aKOuomHnwAkAow</td>\n",
       "      <td>A0X1baHPgw9IiBRivu0G9g</td>\n",
       "      <td>5.0</td>\n",
       "      <td>A0X1baHPgw9IiBRivu0G9g</td>\n",
       "      <td>2</td>\n",
       "      <td>---1lKK3aKOuomHnwAkAow</td>\n",
       "      <td>0</td>\n",
       "    </tr>\n",
       "    <tr>\n",
       "      <th>3</th>\n",
       "      <td>---1lKK3aKOuomHnwAkAow</td>\n",
       "      <td>AZlnpvILz5cEWJifjr2CSQ</td>\n",
       "      <td>5.0</td>\n",
       "      <td>AZlnpvILz5cEWJifjr2CSQ</td>\n",
       "      <td>3</td>\n",
       "      <td>---1lKK3aKOuomHnwAkAow</td>\n",
       "      <td>0</td>\n",
       "    </tr>\n",
       "    <tr>\n",
       "      <th>4</th>\n",
       "      <td>---1lKK3aKOuomHnwAkAow</td>\n",
       "      <td>GJBLjDkfJ4tvkpAjDeCikA</td>\n",
       "      <td>1.0</td>\n",
       "      <td>GJBLjDkfJ4tvkpAjDeCikA</td>\n",
       "      <td>4</td>\n",
       "      <td>---1lKK3aKOuomHnwAkAow</td>\n",
       "      <td>0</td>\n",
       "    </tr>\n",
       "  </tbody>\n",
       "</table>\n",
       "</div>"
      ],
      "text/plain": [
       "                  user_id             business_id  stars  \\\n",
       "0  ---1lKK3aKOuomHnwAkAow  --9e1ONYQuAa-CB_Rrw7Tw    4.0   \n",
       "1  ---1lKK3aKOuomHnwAkAow  7vHvQCjPq5pWj7Rio1A--w    1.0   \n",
       "2  ---1lKK3aKOuomHnwAkAow  A0X1baHPgw9IiBRivu0G9g    5.0   \n",
       "3  ---1lKK3aKOuomHnwAkAow  AZlnpvILz5cEWJifjr2CSQ    5.0   \n",
       "4  ---1lKK3aKOuomHnwAkAow  GJBLjDkfJ4tvkpAjDeCikA    1.0   \n",
       "\n",
       "                 old_id_x  new_id_x                old_id_y  new_id_y  \n",
       "0  --9e1ONYQuAa-CB_Rrw7Tw         0  ---1lKK3aKOuomHnwAkAow         0  \n",
       "1  7vHvQCjPq5pWj7Rio1A--w         1  ---1lKK3aKOuomHnwAkAow         0  \n",
       "2  A0X1baHPgw9IiBRivu0G9g         2  ---1lKK3aKOuomHnwAkAow         0  \n",
       "3  AZlnpvILz5cEWJifjr2CSQ         3  ---1lKK3aKOuomHnwAkAow         0  \n",
       "4  GJBLjDkfJ4tvkpAjDeCikA         4  ---1lKK3aKOuomHnwAkAow         0  "
      ]
     },
     "execution_count": 6,
     "metadata": {},
     "output_type": "execute_result"
    }
   ],
   "source": [
    "data = data.merge(bus_id_lookup, left_on = 'business_id', right_on = 'old_id', how = 'left')\n",
    "data = data.merge(user_id_lookup, left_on = 'user_id', right_on = 'old_id', how = 'left')\n",
    "data.head()"
   ]
  },
  {
   "cell_type": "code",
   "execution_count": 7,
   "metadata": {},
   "outputs": [],
   "source": [
    "#Clean column names\n",
    "data.rename(columns = {'new_id_x': 'item_id',\n",
    "                      'new_id_y': 'user_id2'}, inplace = True)"
   ]
  },
  {
   "cell_type": "code",
   "execution_count": 8,
   "metadata": {},
   "outputs": [
    {
     "data": {
      "text/plain": [
       "(823199, 3)"
      ]
     },
     "execution_count": 8,
     "metadata": {},
     "output_type": "execute_result"
    }
   ],
   "source": [
    "#Create final matrix for model\n",
    "data_final = data[['user_id2','item_id','stars']]\n",
    "data_final.shape"
   ]
  },
  {
   "cell_type": "code",
   "execution_count": 2,
   "metadata": {},
   "outputs": [],
   "source": [
    "#Save data_final to disk\n",
    "data_final.to_csv('Data/yelp_dataset/final_data_for_collab.csv', index = False)"
   ]
  },
  {
   "cell_type": "markdown",
   "metadata": {},
   "source": [
    "## SVD Model"
   ]
  },
  {
   "cell_type": "code",
   "execution_count": 4,
   "metadata": {},
   "outputs": [
    {
     "data": {
      "text/plain": [
       "(823199, 3)"
      ]
     },
     "execution_count": 4,
     "metadata": {},
     "output_type": "execute_result"
    }
   ],
   "source": [
    "#Load data\n",
    "data_final = pd.read_csv('Data/final_data_for_collab.csv')\n",
    "data_final.shape"
   ]
  },
  {
   "cell_type": "code",
   "execution_count": 5,
   "metadata": {},
   "outputs": [
    {
     "data": {
      "image/png": "[encoded data removed]",
      "text/plain": [
       "<Figure size 576x432 with 1 Axes>"
      ]
     },
     "metadata": {},
     "output_type": "display_data"
    }
   ],
   "source": [
    "plt.hist(data_final.stars);\n",
    "plt.title('Distribution of average ratings');"
   ]
  },
  {
   "cell_type": "code",
   "execution_count": 6,
   "metadata": {},
   "outputs": [],
   "source": [
    "# Set up data\n",
    "from surprise import Reader, Dataset\n",
    "\n",
    "reader = Reader(rating_scale=(1.0, 5.0))\n",
    "\n",
    "data_surprise = Dataset.load_from_df(data_final[['user_id2', 'item_id', 'stars']], reader)"
   ]
  },
  {
   "cell_type": "code",
   "execution_count": 7,
   "metadata": {},
   "outputs": [],
   "source": [
    "#Train-test split\n",
    "from surprise.model_selection import train_test_split\n",
    "\n",
    "trainset, testset = train_test_split(data_surprise, test_size=.25)\n"
   ]
  },
  {
   "cell_type": "code",
   "execution_count": 8,
   "metadata": {},
   "outputs": [
    {
     "name": "stdout",
     "output_type": "stream",
     "text": [
      "Train set has 617399 ratings, 24512 userID, 16882 itemID\n",
      "All data has 823199 ratings, 24512 userID, 16906 itemID\n"
     ]
    }
   ],
   "source": [
    "print (\"Train set has {} ratings, {} userID, {} itemID\".format(trainset.n_ratings, trainset.n_users, trainset.n_items))\n",
    "print ('All data has {} ratings, {} userID, {} itemID'.format(data_final.shape[0], data_final.user_id2.nunique(),\n",
    "                                                             data_final.item_id.nunique()) )"
   ]
  },
  {
   "cell_type": "code",
   "execution_count": 9,
   "metadata": {},
   "outputs": [
    {
     "name": "stdout",
     "output_type": "stream",
     "text": [
      "RMSE: 1.0472\n"
     ]
    },
    {
     "data": {
      "text/plain": [
       "1.0471500946629444"
      ]
     },
     "execution_count": 9,
     "metadata": {},
     "output_type": "execute_result"
    }
   ],
   "source": [
    "# Base model\n",
    "from surprise import SVD\n",
    "from surprise import accuracy\n",
    "\n",
    "algo = SVD()\n",
    "algo.fit(trainset)\n",
    "\n",
    "predictions = algo.test(testset)\n",
    "\n",
    "# Compute RMSE\n",
    "accuracy.rmse(predictions)"
   ]
  },
  {
   "cell_type": "code",
   "execution_count": 12,
   "metadata": {},
   "outputs": [
    {
     "name": "stdout",
     "output_type": "stream",
     "text": [
      "RMSE: 1.0376\n"
     ]
    },
    {
     "data": {
      "text/plain": [
       "1.0376031538381916"
      ]
     },
     "execution_count": 12,
     "metadata": {},
     "output_type": "execute_result"
    }
   ],
   "source": [
    "algo2 = SVD(n_epochs = 30, lr_all = 0.003, reg_all = 0.1)\n",
    "algo2.fit(trainset)\n",
    "\n",
    "predictions2 = algo2.test(testset)\n",
    "\n",
    "# Compute RMSE\n",
    "accuracy.rmse(predictions2)"
   ]
  },
  {
   "cell_type": "code",
   "execution_count": 50,
   "metadata": {},
   "outputs": [
    {
     "data": {
      "text/plain": [
       "count    823199.000000\n",
       "mean          3.801345\n",
       "std           1.155394\n",
       "min           1.000000\n",
       "25%           3.000000\n",
       "50%           4.000000\n",
       "75%           5.000000\n",
       "max           5.000000\n",
       "Name: stars, dtype: float64"
      ]
     },
     "execution_count": 50,
     "metadata": {},
     "output_type": "execute_result"
    }
   ],
   "source": [
    "data_final.stars.describe()"
   ]
  },
  {
   "cell_type": "code",
   "execution_count": 43,
   "metadata": {},
   "outputs": [],
   "source": [
    "#Fine tuning the model\n",
    "\n",
    "from surprise.model_selection import GridSearchCV\n",
    "\n",
    "param_grid = {'n_epochs': [10, 20,30], 'lr_all': [0.002, 0.005, 0.003],\n",
    "              'reg_all': [0.02, 0.1 ,0.4]}\n",
    "gs = GridSearchCV(SVD, param_grid, measures=['rmse', 'mae'], cv=3)\n",
    "\n",
    "gs.fit(data_surprise)\n"
   ]
  },
  {
   "cell_type": "code",
   "execution_count": 44,
   "metadata": {},
   "outputs": [
    {
     "name": "stdout",
     "output_type": "stream",
     "text": [
      "Best RMSE score:  1.0377030569479875\n",
      "Best MAE score:  0.8128760236902274\n",
      "Best params for RMSE\n",
      "{'n_epochs': 20, 'lr_all': 0.005, 'reg_all': 0.1}\n",
      "Best params for MAE\n",
      "{'n_epochs': 30, 'lr_all': 0.005, 'reg_all': 0.1}\n"
     ]
    }
   ],
   "source": [
    "# best RMSE score and MAE score\n",
    "print('Best RMSE score: ',gs.best_score['rmse'])\n",
    "print (\"Best MAE score: \", gs.best_score['mae'])\n",
    "\n",
    "# combination of parameters that gave the best scores\n",
    "print ('Best params for RMSE')\n",
    "print(gs.best_params['rmse'])\n",
    "print ('Best params for MAE')\n",
    "print (gs.best_params['mae'])"
   ]
  },
  {
   "cell_type": "code",
   "execution_count": 14,
   "metadata": {},
   "outputs": [
    {
     "name": "stdout",
     "output_type": "stream",
     "text": [
      "RMSE: 1.0372\n"
     ]
    },
    {
     "data": {
      "text/plain": [
       "1.0371756721432814"
      ]
     },
     "execution_count": 14,
     "metadata": {},
     "output_type": "execute_result"
    }
   ],
   "source": [
    "# Use the best parameters\n",
    "# algo_best = gs.best_estimator['rmse']\n",
    "algo_best = SVD(n_epochs = 20, lr_all = 0.005, reg_all = 0.1)\n",
    "\n",
    "algo_best.fit(trainset)\n",
    "\n",
    "predictions_best = algo_best.test(testset)\n",
    "\n",
    "# Compute RMSE\n",
    "accuracy.rmse(predictions_best)"
   ]
  },
  {
   "cell_type": "code",
   "execution_count": 15,
   "metadata": {},
   "outputs": [
    {
     "data": {
      "text/plain": [
       "[Prediction(uid=1625, iid=7597, r_ui=2.0, est=3.6278156052699497, details={'was_impossible': False}),\n",
       " Prediction(uid=13074, iid=20, r_ui=3.0, est=3.445513907528502, details={'was_impossible': False}),\n",
       " Prediction(uid=8814, iid=14486, r_ui=4.0, est=3.8331713944213326, details={'was_impossible': False}),\n",
       " Prediction(uid=11979, iid=7620, r_ui=4.0, est=4.544402402392421, details={'was_impossible': False}),\n",
       " Prediction(uid=23972, iid=1083, r_ui=2.0, est=2.651630115407682, details={'was_impossible': False}),\n",
       " Prediction(uid=8674, iid=5722, r_ui=5.0, est=4.20340745778327, details={'was_impossible': False}),\n",
       " Prediction(uid=12308, iid=11853, r_ui=4.0, est=3.867369237135575, details={'was_impossible': False}),\n",
       " Prediction(uid=21240, iid=13944, r_ui=3.0, est=3.8644156364182116, details={'was_impossible': False}),\n",
       " Prediction(uid=1462, iid=3577, r_ui=5.0, est=3.7095463201129144, details={'was_impossible': False}),\n",
       " Prediction(uid=8029, iid=7133, r_ui=3.0, est=3.7790476407848814, details={'was_impossible': False})]"
      ]
     },
     "execution_count": 15,
     "metadata": {},
     "output_type": "execute_result"
    }
   ],
   "source": [
    "predictions_best[:10]"
   ]
  },
  {
   "cell_type": "code",
   "execution_count": 30,
   "metadata": {},
   "outputs": [
    {
     "data": {
      "text/plain": [
       "[(7597, 3.6278156052699497),\n",
       " (3700, 3.3797173901499167),\n",
       " (9104, 3.3050235792511167),\n",
       " (3975, 3.251447442312144),\n",
       " (1526, 3.1846939823504066),\n",
       " (6105, 3.1505032447336836),\n",
       " (5694, 2.811355988533558)]"
      ]
     },
     "execution_count": 30,
     "metadata": {},
     "output_type": "execute_result"
    }
   ],
   "source": [
    "from collections import defaultdict\n",
    "\n",
    "def get_top_n(predictions, n=10):\n",
    "    '''Return the top-N recommendation for each user from a set of predictions.\n",
    "\n",
    "    '''\n",
    "\n",
    "    # Map the predictions to each user.\n",
    "    top_n = defaultdict(list)\n",
    "    for uid, iid, true_r, est, _ in predictions:\n",
    "        top_n[uid].append((iid, est))\n",
    "\n",
    "    # Sort the predictions for each user and retrieve the n highest ones.\n",
    "    for uid, user_ratings in top_n.items():\n",
    "        user_ratings.sort(key=lambda x: x[1], reverse=True)\n",
    "        top_n[uid] = user_ratings[:n]\n",
    "\n",
    "    return top_n\n",
    "\n",
    "top_n = get_top_n(predictions_best, n=10)\n",
    "\n",
    "#Select a user_id\n",
    "user_id_test = 1625\n",
    "\n",
    "#Print top restaurants for this user\n",
    "top_n[1625]\n",
    "\n"
   ]
  },
  {
   "cell_type": "code",
   "execution_count": 38,
   "metadata": {},
   "outputs": [
    {
     "name": "stdout",
     "output_type": "stream",
     "text": [
      "Predicted rating for user_id 1625 with restaurant_id 5 is: 3.5614450988670927\n"
     ]
    }
   ],
   "source": [
    "#Estimate a rating for this user with new restaurant\n",
    "to_predict = (1625, 5, 0) #(user_id, item_id, rating_fake)\n",
    "\n",
    "print('Predicted rating for user_id 1625 with restaurant_id 5 is:',algo_best.test([to_predict])[0][3])"
   ]
  },
  {
   "cell_type": "code",
   "execution_count": null,
   "metadata": {},
   "outputs": [],
   "source": []
  }
 ],
 "metadata": {
  "kernelspec": {
   "display_name": "Python 3",
   "language": "python",
   "name": "python3"
  },
  "language_info": {
   "codemirror_mode": {
    "name": "ipython",
    "version": 3
   },
   "file_extension": ".py",
   "mimetype": "text/x-python",
   "name": "python",
   "nbconvert_exporter": "python",
   "pygments_lexer": "ipython3",
   "version": "3.6.5"
  },
  "latex_envs": {
   "LaTeX_envs_menu_present": true,
   "autoclose": false,
   "autocomplete": true,
   "bibliofile": "biblio.bib",
   "cite_by": "apalike",
   "current_citInitial": 1,
   "eqLabelWithNumbers": true,
   "eqNumInitial": 1,
   "hotkeys": {
    "equation": "Ctrl-E",
    "itemize": "Ctrl-I"
   },
   "labels_anchors": false,
   "latex_user_defs": false,
   "report_style_numbering": false,
   "user_envs_cfg": false
  }
 },
 "nbformat": 4,
 "nbformat_minor": 2
}
