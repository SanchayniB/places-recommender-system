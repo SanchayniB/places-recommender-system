{
 "cells": [
  {
   "cell_type": "code",
   "execution_count": 3,
   "metadata": {
    "colab": {},
    "colab_type": "code",
    "id": "q1X7uoCZ3qBE"
   },
   "outputs": [],
   "source": [
    "import pandas as pd\n",
    "import numpy as np"
   ]
  },
  {
   "cell_type": "code",
   "execution_count": 4,
   "metadata": {
    "colab": {},
    "colab_type": "code",
    "id": "3XaBMV5x3qBI"
   },
   "outputs": [],
   "source": [
    "import matplotlib.pyplot as plt "
   ]
  },
  {
   "cell_type": "code",
   "execution_count": 6,
   "metadata": {
    "colab": {},
    "colab_type": "code",
    "id": "rRn4H_Ok3qBL"
   },
   "outputs": [],
   "source": [
    "data_cf = pd.read_csv('data_for_collab.csv')"
   ]
  },
  {
   "cell_type": "code",
   "execution_count": 5,
   "metadata": {
    "colab": {},
    "colab_type": "code",
    "id": "cdeb3OCW3qBN",
    "outputId": "d4a6adb4-f82f-4a24-9d52-af001045de26"
   },
   "outputs": [
    {
     "data": {
      "text/html": [
       "<div>\n",
       "<style scoped>\n",
       "    .dataframe tbody tr th:only-of-type {\n",
       "        vertical-align: middle;\n",
       "    }\n",
       "\n",
       "    .dataframe tbody tr th {\n",
       "        vertical-align: top;\n",
       "    }\n",
       "\n",
       "    .dataframe thead th {\n",
       "        text-align: right;\n",
       "    }\n",
       "</style>\n",
       "<table border=\"1\" class=\"dataframe\">\n",
       "  <thead>\n",
       "    <tr style=\"text-align: right;\">\n",
       "      <th></th>\n",
       "      <th>user_id</th>\n",
       "      <th>business_id</th>\n",
       "      <th>stars</th>\n",
       "    </tr>\n",
       "  </thead>\n",
       "  <tbody>\n",
       "    <tr>\n",
       "      <th>0</th>\n",
       "      <td>---1lKK3aKOuomHnwAkAow</td>\n",
       "      <td>--9e1ONYQuAa-CB_Rrw7Tw</td>\n",
       "      <td>4.0</td>\n",
       "    </tr>\n",
       "    <tr>\n",
       "      <th>1</th>\n",
       "      <td>---1lKK3aKOuomHnwAkAow</td>\n",
       "      <td>7vHvQCjPq5pWj7Rio1A--w</td>\n",
       "      <td>1.0</td>\n",
       "    </tr>\n",
       "    <tr>\n",
       "      <th>2</th>\n",
       "      <td>---1lKK3aKOuomHnwAkAow</td>\n",
       "      <td>A0X1baHPgw9IiBRivu0G9g</td>\n",
       "      <td>5.0</td>\n",
       "    </tr>\n",
       "    <tr>\n",
       "      <th>3</th>\n",
       "      <td>---1lKK3aKOuomHnwAkAow</td>\n",
       "      <td>AZlnpvILz5cEWJifjr2CSQ</td>\n",
       "      <td>5.0</td>\n",
       "    </tr>\n",
       "    <tr>\n",
       "      <th>4</th>\n",
       "      <td>---1lKK3aKOuomHnwAkAow</td>\n",
       "      <td>GJBLjDkfJ4tvkpAjDeCikA</td>\n",
       "      <td>1.0</td>\n",
       "    </tr>\n",
       "  </tbody>\n",
       "</table>\n",
       "</div>"
      ],
      "text/plain": [
       "                  user_id             business_id  stars\n",
       "0  ---1lKK3aKOuomHnwAkAow  --9e1ONYQuAa-CB_Rrw7Tw    4.0\n",
       "1  ---1lKK3aKOuomHnwAkAow  7vHvQCjPq5pWj7Rio1A--w    1.0\n",
       "2  ---1lKK3aKOuomHnwAkAow  A0X1baHPgw9IiBRivu0G9g    5.0\n",
       "3  ---1lKK3aKOuomHnwAkAow  AZlnpvILz5cEWJifjr2CSQ    5.0\n",
       "4  ---1lKK3aKOuomHnwAkAow  GJBLjDkfJ4tvkpAjDeCikA    1.0"
      ]
     },
     "execution_count": 5,
     "metadata": {},
     "output_type": "execute_result"
    }
   ],
   "source": [
    "data_cf.head()"
   ]
  },
  {
   "cell_type": "code",
   "execution_count": 7,
   "metadata": {
    "colab": {},
    "colab_type": "code",
    "id": "43P2fnbd3qBU"
   },
   "outputs": [],
   "source": [
    "Unique_users = pd.DataFrame([i for i in data_cf['user_id'].unique()],columns = ['user_id'])\n",
    "Unique_business_id = pd.DataFrame([i for i in data_cf['business_id'].unique()],columns = ['business_id'])"
   ]
  },
  {
   "cell_type": "code",
   "execution_count": 8,
   "metadata": {
    "colab": {},
    "colab_type": "code",
    "id": "sB5VMg6M3qBW"
   },
   "outputs": [],
   "source": [
    "Unique_users['user_index'] = [i for i in range(len(Unique_users))]\n",
    "Unique_business_id['business_index'] = [i for i in range(len(Unique_business_id))]"
   ]
  },
  {
   "cell_type": "code",
   "execution_count": 9,
   "metadata": {
    "colab": {},
    "colab_type": "code",
    "id": "ceoRG93u3qBY"
   },
   "outputs": [],
   "source": [
    "data_cf = data_cf.merge(Unique_users, how= 'left',left_on='user_id', right_on='user_id')\n",
    "data_cf = data_cf.merge(Unique_business_id, how= 'left',left_on='business_id', right_on='business_id')"
   ]
  },
  {
   "cell_type": "code",
   "execution_count": 10,
   "metadata": {
    "colab": {},
    "colab_type": "code",
    "id": "g_30aJPT3qBb",
    "outputId": "a08ac2b3-cf9f-42dc-830a-b6ddfbb1a9a1"
   },
   "outputs": [
    {
     "data": {
      "text/html": [
       "<div>\n",
       "<style scoped>\n",
       "    .dataframe tbody tr th:only-of-type {\n",
       "        vertical-align: middle;\n",
       "    }\n",
       "\n",
       "    .dataframe tbody tr th {\n",
       "        vertical-align: top;\n",
       "    }\n",
       "\n",
       "    .dataframe thead th {\n",
       "        text-align: right;\n",
       "    }\n",
       "</style>\n",
       "<table border=\"1\" class=\"dataframe\">\n",
       "  <thead>\n",
       "    <tr style=\"text-align: right;\">\n",
       "      <th></th>\n",
       "      <th>user_id</th>\n",
       "      <th>business_id</th>\n",
       "      <th>stars</th>\n",
       "      <th>user_index</th>\n",
       "      <th>business_index</th>\n",
       "    </tr>\n",
       "  </thead>\n",
       "  <tbody>\n",
       "    <tr>\n",
       "      <th>0</th>\n",
       "      <td>---1lKK3aKOuomHnwAkAow</td>\n",
       "      <td>--9e1ONYQuAa-CB_Rrw7Tw</td>\n",
       "      <td>4.0</td>\n",
       "      <td>0</td>\n",
       "      <td>0</td>\n",
       "    </tr>\n",
       "    <tr>\n",
       "      <th>1</th>\n",
       "      <td>---1lKK3aKOuomHnwAkAow</td>\n",
       "      <td>7vHvQCjPq5pWj7Rio1A--w</td>\n",
       "      <td>1.0</td>\n",
       "      <td>0</td>\n",
       "      <td>1</td>\n",
       "    </tr>\n",
       "    <tr>\n",
       "      <th>2</th>\n",
       "      <td>---1lKK3aKOuomHnwAkAow</td>\n",
       "      <td>A0X1baHPgw9IiBRivu0G9g</td>\n",
       "      <td>5.0</td>\n",
       "      <td>0</td>\n",
       "      <td>2</td>\n",
       "    </tr>\n",
       "    <tr>\n",
       "      <th>3</th>\n",
       "      <td>---1lKK3aKOuomHnwAkAow</td>\n",
       "      <td>AZlnpvILz5cEWJifjr2CSQ</td>\n",
       "      <td>5.0</td>\n",
       "      <td>0</td>\n",
       "      <td>3</td>\n",
       "    </tr>\n",
       "    <tr>\n",
       "      <th>4</th>\n",
       "      <td>---1lKK3aKOuomHnwAkAow</td>\n",
       "      <td>GJBLjDkfJ4tvkpAjDeCikA</td>\n",
       "      <td>1.0</td>\n",
       "      <td>0</td>\n",
       "      <td>4</td>\n",
       "    </tr>\n",
       "  </tbody>\n",
       "</table>\n",
       "</div>"
      ],
      "text/plain": [
       "                  user_id             business_id  stars  user_index  \\\n",
       "0  ---1lKK3aKOuomHnwAkAow  --9e1ONYQuAa-CB_Rrw7Tw    4.0           0   \n",
       "1  ---1lKK3aKOuomHnwAkAow  7vHvQCjPq5pWj7Rio1A--w    1.0           0   \n",
       "2  ---1lKK3aKOuomHnwAkAow  A0X1baHPgw9IiBRivu0G9g    5.0           0   \n",
       "3  ---1lKK3aKOuomHnwAkAow  AZlnpvILz5cEWJifjr2CSQ    5.0           0   \n",
       "4  ---1lKK3aKOuomHnwAkAow  GJBLjDkfJ4tvkpAjDeCikA    1.0           0   \n",
       "\n",
       "   business_index  \n",
       "0               0  \n",
       "1               1  \n",
       "2               2  \n",
       "3               3  \n",
       "4               4  "
      ]
     },
     "execution_count": 10,
     "metadata": {},
     "output_type": "execute_result"
    }
   ],
   "source": [
    "data_cf.head()"
   ]
  },
  {
   "cell_type": "code",
   "execution_count": 11,
   "metadata": {
    "colab": {},
    "colab_type": "code",
    "id": "AUTUxTxt3qBh",
    "outputId": "a0211c60-ce59-441b-bd22-e0546761a5e6"
   },
   "outputs": [
    {
     "data": {
      "text/plain": [
       "(823199, 5)"
      ]
     },
     "execution_count": 11,
     "metadata": {},
     "output_type": "execute_result"
    }
   ],
   "source": [
    "data_cf.shape"
   ]
  },
  {
   "cell_type": "code",
   "execution_count": 12,
   "metadata": {
    "colab": {},
    "colab_type": "code",
    "id": "0MjEqoP33qBl",
    "outputId": "a8bcb699-1d5e-4daa-d09e-c12a83d6d870"
   },
   "outputs": [
    {
     "data": {
      "text/plain": [
       "user_id           0\n",
       "business_id       0\n",
       "stars             0\n",
       "user_index        0\n",
       "business_index    0\n",
       "dtype: int64"
      ]
     },
     "execution_count": 12,
     "metadata": {},
     "output_type": "execute_result"
    }
   ],
   "source": [
    "data_cf.isna().sum()"
   ]
  },
  {
   "cell_type": "code",
   "execution_count": 13,
   "metadata": {
    "colab": {},
    "colab_type": "code",
    "id": "jzm7rQCR3qBo",
    "outputId": "b84e9189-0df1-4599-db03-668f019cbcbf"
   },
   "outputs": [
    {
     "data": {
      "text/html": [
       "<div>\n",
       "<style scoped>\n",
       "    .dataframe tbody tr th:only-of-type {\n",
       "        vertical-align: middle;\n",
       "    }\n",
       "\n",
       "    .dataframe tbody tr th {\n",
       "        vertical-align: top;\n",
       "    }\n",
       "\n",
       "    .dataframe thead th {\n",
       "        text-align: right;\n",
       "    }\n",
       "</style>\n",
       "<table border=\"1\" class=\"dataframe\">\n",
       "  <thead>\n",
       "    <tr style=\"text-align: right;\">\n",
       "      <th></th>\n",
       "      <th>user_index</th>\n",
       "      <th>business_index</th>\n",
       "      <th>stars</th>\n",
       "    </tr>\n",
       "  </thead>\n",
       "  <tbody>\n",
       "    <tr>\n",
       "      <th>0</th>\n",
       "      <td>0</td>\n",
       "      <td>0</td>\n",
       "      <td>4.0</td>\n",
       "    </tr>\n",
       "    <tr>\n",
       "      <th>1</th>\n",
       "      <td>0</td>\n",
       "      <td>1</td>\n",
       "      <td>1.0</td>\n",
       "    </tr>\n",
       "    <tr>\n",
       "      <th>2</th>\n",
       "      <td>0</td>\n",
       "      <td>2</td>\n",
       "      <td>5.0</td>\n",
       "    </tr>\n",
       "    <tr>\n",
       "      <th>3</th>\n",
       "      <td>0</td>\n",
       "      <td>3</td>\n",
       "      <td>5.0</td>\n",
       "    </tr>\n",
       "    <tr>\n",
       "      <th>4</th>\n",
       "      <td>0</td>\n",
       "      <td>4</td>\n",
       "      <td>1.0</td>\n",
       "    </tr>\n",
       "  </tbody>\n",
       "</table>\n",
       "</div>"
      ],
      "text/plain": [
       "   user_index  business_index  stars\n",
       "0           0               0    4.0\n",
       "1           0               1    1.0\n",
       "2           0               2    5.0\n",
       "3           0               3    5.0\n",
       "4           0               4    1.0"
      ]
     },
     "execution_count": 13,
     "metadata": {},
     "output_type": "execute_result"
    }
   ],
   "source": [
    "data_cf[['user_index','business_index','stars']].head()"
   ]
  },
  {
   "cell_type": "markdown",
   "metadata": {
    "colab_type": "text",
    "id": "2HtC0FMN3qB4"
   },
   "source": [
    "---\n",
    "## Using surprise package"
   ]
  },
  {
   "cell_type": "code",
   "execution_count": 15,
   "metadata": {
    "colab": {},
    "colab_type": "code",
    "id": "Fi30DBdp3qB5"
   },
   "outputs": [],
   "source": [
    "from surprise import Reader, Dataset,evaluate,accuracy"
   ]
  },
  {
   "cell_type": "code",
   "execution_count": 16,
   "metadata": {
    "colab": {},
    "colab_type": "code",
    "id": "McYu5_NR3qB9"
   },
   "outputs": [],
   "source": [
    "reader = Reader(rating_scale=(1, 5.0))"
   ]
  },
  {
   "cell_type": "code",
   "execution_count": 17,
   "metadata": {
    "colab": {},
    "colab_type": "code",
    "id": "RJFOuCCZ3qCA"
   },
   "outputs": [],
   "source": [
    "cf_surprise  = Dataset.load_from_df(data_cf[['user_index','business_index','stars']], reader)"
   ]
  },
  {
   "cell_type": "code",
   "execution_count": 18,
   "metadata": {
    "colab": {},
    "colab_type": "code",
    "id": "uB-CxRVe3qCG"
   },
   "outputs": [],
   "source": [
    "import random\n",
    "random.seed(1245) "
   ]
  },
  {
   "cell_type": "code",
   "execution_count": 19,
   "metadata": {
    "colab": {},
    "colab_type": "code",
    "id": "vmb7axnt3qCJ"
   },
   "outputs": [],
   "source": [
    "from surprise.model_selection import train_test_split\n",
    "train, test = train_test_split(cf_surprise, test_size=.25)"
   ]
  },
  {
   "cell_type": "markdown",
   "metadata": {
    "colab_type": "text",
    "id": "m3yDW6iO3qCM"
   },
   "source": [
    "---\n",
    "### Baseline model"
   ]
  },
  {
   "cell_type": "code",
   "execution_count": 20,
   "metadata": {
    "colab": {},
    "colab_type": "code",
    "id": "zFvx7pty3qCO"
   },
   "outputs": [],
   "source": [
    "from surprise import BaselineOnly"
   ]
  },
  {
   "cell_type": "code",
   "execution_count": 21,
   "metadata": {
    "colab": {},
    "colab_type": "code",
    "id": "AVwYKdJa3qCR"
   },
   "outputs": [],
   "source": [
    "Baseline_cf = BaselineOnly()"
   ]
  },
  {
   "cell_type": "code",
   "execution_count": 22,
   "metadata": {
    "colab": {},
    "colab_type": "code",
    "id": "X-dmILW_3qCW",
    "outputId": "28f4b964-3b35-48f0-f7d5-80abb4de3d90"
   },
   "outputs": [
    {
     "name": "stdout",
     "output_type": "stream",
     "text": [
      "Estimating biases using als...\n"
     ]
    }
   ],
   "source": [
    "Baseline_cf.fit(train)\n",
    "predictions_bl = Baseline_cf.test(test)"
   ]
  },
  {
   "cell_type": "code",
   "execution_count": 23,
   "metadata": {
    "colab": {},
    "colab_type": "code",
    "id": "tZvFBg8O3qCY",
    "outputId": "25adff04-eda9-439b-d253-fc791be7cb9f"
   },
   "outputs": [
    {
     "name": "stdout",
     "output_type": "stream",
     "text": [
      "RMSE: 1.0348\n"
     ]
    },
    {
     "data": {
      "text/plain": [
       "1.0347564873643547"
      ]
     },
     "execution_count": 23,
     "metadata": {},
     "output_type": "execute_result"
    }
   ],
   "source": [
    "accuracy.rmse(predictions_bl)"
   ]
  },
  {
   "cell_type": "code",
   "execution_count": 39,
   "metadata": {},
   "outputs": [
    {
     "data": {
      "text/plain": [
       "Prediction(uid=15685, iid=8529, r_ui=4.0, est=3.6698428434483663, details={'was_impossible': False})"
      ]
     },
     "execution_count": 39,
     "metadata": {},
     "output_type": "execute_result"
    }
   ],
   "source": [
    "predictions_bl[0]"
   ]
  },
  {
   "cell_type": "markdown",
   "metadata": {},
   "source": [
    "----\n",
    "### Building a functions for KPIs\n"
   ]
  },
  {
   "cell_type": "code",
   "execution_count": 122,
   "metadata": {},
   "outputs": [],
   "source": [
    "from sklearn.metrics import recall_score\n",
    "from sklearn.metrics import precision_score"
   ]
  },
  {
   "cell_type": "code",
   "execution_count": 120,
   "metadata": {},
   "outputs": [],
   "source": [
    "def MAR(predictions, top_n = 5):\n",
    "\n",
    "    Top_5 = get_top_n(predictions,top_n)\n",
    "    All_recalls = list()\n",
    "    for uid in Top_5.keys():\n",
    "\n",
    "        df = pd.DataFrame(Top_5[uid])\n",
    "        est = [1 if x > 3.5 else 0 for x in df[1] ]\n",
    "        act = [1 if x > 3.5 else 0 for x in df[2] ]\n",
    "        All_recalls.append(recall_score(est,act))\n",
    "        \n",
    "    return(np.average(All_recalls))"
   ]
  },
  {
   "cell_type": "code",
   "execution_count": 123,
   "metadata": {},
   "outputs": [],
   "source": [
    "def MAP(predictions, top_n = 5):\n",
    "\n",
    "    Top_5 = get_top_n(predictions,top_n)\n",
    "    All_recalls = list()\n",
    "    for uid in Top_5.keys():\n",
    "\n",
    "        df = pd.DataFrame(Top_5[uid])\n",
    "        est = [1 if x > 3.5 else 0 for x in df[1] ]\n",
    "        act = [1 if x > 3.5 else 0 for x in df[2] ]\n",
    "        All_recalls.append(precision_score(est,act))\n",
    "        \n",
    "    return(np.average(All_recalls))"
   ]
  },
  {
   "cell_type": "code",
   "execution_count": 144,
   "metadata": {},
   "outputs": [],
   "source": [
    "def ADCG(predictions, top_n = 5):\n",
    "\n",
    "    Top_5 = get_top_n(predictions,top_n)\n",
    "    All_DCG = list()\n",
    "    for uid in Top_5.keys():\n",
    "        \n",
    "        df = pd.DataFrame(Top_5[uid])\n",
    "        DCG = list()\n",
    "        for i in range(len(df)):\n",
    "            if i ==0:\n",
    "                DCG.append(df[2][i])\n",
    "            else:\n",
    "                DCG.append(df[2][i]/np.log2(i+1))\n",
    "        \n",
    "        \n",
    "        All_DCG.append(sum(DCG))\n",
    "        \n",
    "    return(np.average(All_DCG))"
   ]
  },
  {
   "cell_type": "code",
   "execution_count": null,
   "metadata": {},
   "outputs": [],
   "source": []
  },
  {
   "cell_type": "code",
   "execution_count": 121,
   "metadata": {},
   "outputs": [
    {
     "name": "stderr",
     "output_type": "stream",
     "text": [
      "C:\\Users\\sbagade\\AppData\\Local\\Continuum\\anaconda3\\lib\\site-packages\\sklearn\\metrics\\classification.py:1145: UndefinedMetricWarning: Recall is ill-defined and being set to 0.0 due to no true samples.\n",
      "  'recall', 'true', average, warn_for)\n"
     ]
    },
    {
     "data": {
      "text/plain": [
       "0.8278981648369654"
      ]
     },
     "execution_count": 121,
     "metadata": {},
     "output_type": "execute_result"
    }
   ],
   "source": [
    "MAR(predictions_bl)"
   ]
  },
  {
   "cell_type": "code",
   "execution_count": 124,
   "metadata": {},
   "outputs": [
    {
     "name": "stderr",
     "output_type": "stream",
     "text": [
      "C:\\Users\\sbagade\\AppData\\Local\\Continuum\\anaconda3\\lib\\site-packages\\sklearn\\metrics\\classification.py:1143: UndefinedMetricWarning: Precision is ill-defined and being set to 0.0 due to no predicted samples.\n",
      "  'precision', 'predicted', average, warn_for)\n"
     ]
    },
    {
     "data": {
      "text/plain": [
       "0.8192869626959419"
      ]
     },
     "execution_count": 124,
     "metadata": {},
     "output_type": "execute_result"
    }
   ],
   "source": [
    "MAP(predictions_bl)"
   ]
  },
  {
   "cell_type": "code",
   "execution_count": 145,
   "metadata": {},
   "outputs": [
    {
     "data": {
      "text/plain": [
       "12.76313496020085"
      ]
     },
     "execution_count": 145,
     "metadata": {},
     "output_type": "execute_result"
    }
   ],
   "source": [
    "ADCG(predictions_bl)"
   ]
  },
  {
   "cell_type": "markdown",
   "metadata": {
    "colab_type": "text",
    "id": "qleuwHkY3qCb"
   },
   "source": [
    "---\n",
    "## Predictions"
   ]
  },
  {
   "cell_type": "code",
   "execution_count": 29,
   "metadata": {
    "colab": {},
    "colab_type": "code",
    "id": "xbruzkK63qCb"
   },
   "outputs": [],
   "source": [
    "from collections import defaultdict"
   ]
  },
  {
   "cell_type": "code",
   "execution_count": 92,
   "metadata": {
    "colab": {},
    "colab_type": "code",
    "id": "ieWiG8Q33qCe"
   },
   "outputs": [],
   "source": [
    "# This is updated\n",
    "def get_top_n(predictions, n=10):\n",
    "    '''Return the top-N recommendation for each user from a set of predictions.\n",
    "\n",
    "    Args:\n",
    "        predictions(list of Prediction objects): The list of predictions, as\n",
    "            returned by the test method of an algorithm.\n",
    "        n(int): The number of recommendation to output for each user. Default\n",
    "            is 10.\n",
    "\n",
    "    Returns:\n",
    "    A dict where keys are user (raw) ids and values are lists of tuples:\n",
    "        [(raw item id, rating estimation), ...] of size n.\n",
    "    '''\n",
    "\n",
    "    # First map the predictions to each user.\n",
    "    top_n = defaultdict(list)\n",
    "    for uid, iid, est,r_ui,_ in predictions:\n",
    "        top_n[uid].append((iid, est, r_ui))\n",
    "\n",
    "    # Then sort the predictions for each user and retrieve the k highest ones.\n",
    "    for uid, user_ratings in top_n.items():\n",
    "        user_ratings.sort(key=lambda x: x[1], reverse=True)\n",
    "        top_n[uid] = user_ratings[:n]\n",
    "\n",
    "    return top_n"
   ]
  },
  {
   "cell_type": "markdown",
   "metadata": {},
   "source": [
    "\n",
    "---\n",
    "### Extracting recommendations for all users"
   ]
  },
  {
   "cell_type": "code",
   "execution_count": 0,
   "metadata": {
    "colab": {},
    "colab_type": "code",
    "id": "eR_eqXoR3qCh"
   },
   "outputs": [],
   "source": [
    "top_5_recco = get_top_n(predictions_bl, n=5)\n",
    "all_uids = []\n",
    "all_top_res = []\n",
    "\n",
    "# Store the recommended items for each user\n",
    "\n",
    "for uid, user_ratings in top_5_recco.items():\n",
    "    all_uids.append(Unique_users.user_id[Unique_users['user_index'] == uid].values[0])\n",
    "    all_top_res.append([Unique_business_id.business_id[Unique_business_id['business_index'] == iid].values[0]\n",
    "                    for (iid, _) in user_ratings])"
   ]
  },
  {
   "cell_type": "code",
   "execution_count": 0,
   "metadata": {
    "colab": {},
    "colab_type": "code",
    "id": "6HUpufNa3qCl"
   },
   "outputs": [],
   "source": [
    "Top_5_recco = pd.DataFrame(data = {'uids': all_uids , 'top_res' : all_top_res})"
   ]
  },
  {
   "cell_type": "code",
   "execution_count": 0,
   "metadata": {
    "colab": {},
    "colab_type": "code",
    "id": "CjJKzsGs3qCq",
    "outputId": "8996281c-0800-42d7-80be-847ffc10e798"
   },
   "outputs": [
    {
     "data": {
      "text/plain": [
       "['OoKNxTMu5YAaNgQKQ4SrzA',\n",
       " 'u-SJ5QUwrNquL9VnXwl8cg',\n",
       " 'ohEnmKpF7i2_ujme1p_vUQ',\n",
       " 'GdgGAINCqMXqcuKd2nKEBg',\n",
       " 'wl0QZqAzr1DelslQ02JGCQ']"
      ]
     },
     "execution_count": 151,
     "metadata": {
      "tags": []
     },
     "output_type": "execute_result"
    }
   ],
   "source": [
    "Top_5_recco.iloc[1]['top_res']"
   ]
  },
  {
   "cell_type": "code",
   "execution_count": 0,
   "metadata": {
    "colab": {},
    "colab_type": "code",
    "id": "aYzDvqy23qCx",
    "outputId": "3fcc8788-2621-4510-ae49-5b6c6ac470db"
   },
   "outputs": [
    {
     "data": {
      "text/plain": [
       "489277    GdgGAINCqMXqcuKd2nKEBg\n",
       "489295    OoKNxTMu5YAaNgQKQ4SrzA\n",
       "489354    ohEnmKpF7i2_ujme1p_vUQ\n",
       "489365    u-SJ5QUwrNquL9VnXwl8cg\n",
       "489373    wl0QZqAzr1DelslQ02JGCQ\n",
       "Name: business_id, dtype: object"
      ]
     },
     "execution_count": 156,
     "metadata": {
      "tags": []
     },
     "output_type": "execute_result"
    }
   ],
   "source": [
    "t = data_cf.business_id[data_cf['user_id']== '_jjbwHWLFA5GjWFWGLj4ZQ']\n",
    "t[t.isin(Top_5_recco.iloc[1]['top_res'])]"
   ]
  },
  {
   "cell_type": "markdown",
   "metadata": {},
   "source": [
    "---\n",
    "### Trail"
   ]
  },
  {
   "cell_type": "code",
   "execution_count": 0,
   "metadata": {
    "colab": {},
    "colab_type": "code",
    "id": "uVDAFMhc3qCz",
    "outputId": "2693a5ec-e666-44a8-d144-24606bffe28d"
   },
   "outputs": [
    {
     "data": {
      "text/plain": [
       "[('abcd', '1', 3), ('abcd', 'b', 0), ('abcd', 43, 5), ('abcd', 5, 5)]"
      ]
     },
     "execution_count": 182,
     "metadata": {
      "tags": []
     },
     "output_type": "execute_result"
    }
   ],
   "source": [
    "test01 = [('abcd','1',3),('abcd','b',0),('abcd',43,5),('abcd',5,5)]\n",
    "test01"
   ]
  },
  {
   "cell_type": "code",
   "execution_count": 0,
   "metadata": {
    "colab": {},
    "colab_type": "code",
    "id": "CJ2trx-f3qC4"
   },
   "outputs": [],
   "source": [
    "predictions_test01 = Baseline_cf.test(test01)"
   ]
  },
  {
   "cell_type": "code",
   "execution_count": 0,
   "metadata": {
    "colab": {},
    "colab_type": "code",
    "id": "nZZ0iI1f3qC8",
    "outputId": "6e6f92f6-f511-49f2-8deb-277b1ce44dc8"
   },
   "outputs": [
    {
     "data": {
      "text/plain": [
       "[Prediction(uid='abcd', iid='1', r_ui=3, est=3.8021122131872906, details={'was_impossible': False}),\n",
       " Prediction(uid='abcd', iid='b', r_ui=0, est=3.8021122131872906, details={'was_impossible': False}),\n",
       " Prediction(uid='abcd', iid=43, r_ui=5, est=4.344172026870368, details={'was_impossible': False}),\n",
       " Prediction(uid='abcd', iid=5, r_ui=5, est=4.073890050990429, details={'was_impossible': False})]"
      ]
     },
     "execution_count": 184,
     "metadata": {
      "tags": []
     },
     "output_type": "execute_result"
    }
   ],
   "source": [
    "predictions_test01"
   ]
  },
  {
   "cell_type": "markdown",
   "metadata": {},
   "source": [
    "----\n",
    "### KNN"
   ]
  },
  {
   "cell_type": "code",
   "execution_count": 26,
   "metadata": {
    "colab": {},
    "colab_type": "code",
    "id": "Mmfamlz_3qDD"
   },
   "outputs": [],
   "source": [
    "from surprise import KNNBasic\n",
    "Knn_cf = KNNBasic(sim_options={'user_based': True})"
   ]
  },
  {
   "cell_type": "code",
   "execution_count": 27,
   "metadata": {
    "colab": {},
    "colab_type": "code",
    "id": "IZyRZL233qDG",
    "outputId": "27d7410d-728a-43e8-c7c8-d5d29ba5a04d"
   },
   "outputs": [
    {
     "name": "stdout",
     "output_type": "stream",
     "text": [
      "Computing the msd similarity matrix...\n",
      "Done computing similarity matrix.\n"
     ]
    }
   ],
   "source": [
    "Knn_cf.fit(train)\n",
    "predictions_knn = Knn_cf.test(test)"
   ]
  },
  {
   "cell_type": "code",
   "execution_count": 28,
   "metadata": {
    "colab": {},
    "colab_type": "code",
    "id": "nRUCFHv_3qDJ",
    "outputId": "e0a25dd0-b62f-4326-8845-4b8ed2419cc7"
   },
   "outputs": [
    {
     "name": "stdout",
     "output_type": "stream",
     "text": [
      "RMSE: 1.1117\n"
     ]
    },
    {
     "data": {
      "text/plain": [
       "1.1117434087887796"
      ]
     },
     "execution_count": 28,
     "metadata": {},
     "output_type": "execute_result"
    }
   ],
   "source": [
    "accuracy.rmse(predictions_knn)"
   ]
  },
  {
   "cell_type": "markdown",
   "metadata": {},
   "source": [
    "-----\n",
    "### KNN means model"
   ]
  },
  {
   "cell_type": "markdown",
   "metadata": {
    "colab_type": "text",
    "id": "jN-HbndC3qDf"
   },
   "source": [
    "KNN with means takes into consideration how a user usually rates. But this can have drawbacks in cases where the user has rated only 2-3 restaurants and the user didn't like all of them."
   ]
  },
  {
   "cell_type": "code",
   "execution_count": 40,
   "metadata": {
    "colab": {},
    "colab_type": "code",
    "id": "Vybs9vSK3qDf"
   },
   "outputs": [],
   "source": [
    "from surprise import KNNWithMeans"
   ]
  },
  {
   "cell_type": "code",
   "execution_count": 41,
   "metadata": {
    "colab": {},
    "colab_type": "code",
    "id": "lMUlu50W3qDi"
   },
   "outputs": [],
   "source": [
    "Knnwithmeans_cf = KNNWithMeans(sim_options={'user_based': True})"
   ]
  },
  {
   "cell_type": "code",
   "execution_count": 42,
   "metadata": {
    "colab": {},
    "colab_type": "code",
    "id": "ju83KEwv3qDk",
    "outputId": "13cfcd6b-276c-4371-fe85-0139bad744e8"
   },
   "outputs": [
    {
     "name": "stdout",
     "output_type": "stream",
     "text": [
      "Computing the msd similarity matrix...\n",
      "Done computing similarity matrix.\n"
     ]
    }
   ],
   "source": [
    "Knnwithmeans_cf.fit(train)\n",
    "predictions_knnwithmeans = Knnwithmeans_cf.test(test)"
   ]
  },
  {
   "cell_type": "code",
   "execution_count": 59,
   "metadata": {
    "colab": {},
    "colab_type": "code",
    "id": "4szy3v5k3qDm",
    "outputId": "dd72db27-0178-4514-b4e6-adc3cf719452"
   },
   "outputs": [
    {
     "name": "stdout",
     "output_type": "stream",
     "text": [
      "RMSE: 1.0694\n",
      "MAE:  0.8268\n"
     ]
    },
    {
     "data": {
      "text/plain": [
       "(1.0693752195674013, 0.8267623071557545)"
      ]
     },
     "execution_count": 59,
     "metadata": {},
     "output_type": "execute_result"
    }
   ],
   "source": [
    "accuracy.rmse(predictions_knnwithmeans), accuracy.mae(predictions_knnwithmeans)"
   ]
  },
  {
   "cell_type": "code",
   "execution_count": 60,
   "metadata": {},
   "outputs": [],
   "source": [
    "from surprise.model_selection import GridSearchCV\n",
    "param_grid = {\n",
    "             'k': [200,250,300,700],\\\n",
    "             'sim_options': {'name': ['msd','cosine']  } \\\n",
    "            }\n",
    "\n",
    "gsKNNMeans = GridSearchCV(KNNWithMeans, param_grid, measures=['rmse', 'mae'], cv=3)"
   ]
  },
  {
   "cell_type": "code",
   "execution_count": 61,
   "metadata": {},
   "outputs": [
    {
     "name": "stdout",
     "output_type": "stream",
     "text": [
      "Computing the msd similarity matrix...\n",
      "Done computing similarity matrix.\n",
      "Computing the msd similarity matrix...\n",
      "Done computing similarity matrix.\n",
      "Computing the msd similarity matrix...\n",
      "Done computing similarity matrix.\n",
      "Computing the cosine similarity matrix...\n",
      "Done computing similarity matrix.\n",
      "Computing the cosine similarity matrix...\n",
      "Done computing similarity matrix.\n",
      "Computing the cosine similarity matrix...\n",
      "Done computing similarity matrix.\n",
      "Computing the msd similarity matrix...\n",
      "Done computing similarity matrix.\n",
      "Computing the msd similarity matrix...\n",
      "Done computing similarity matrix.\n",
      "Computing the msd similarity matrix...\n",
      "Done computing similarity matrix.\n",
      "Computing the cosine similarity matrix...\n",
      "Done computing similarity matrix.\n",
      "Computing the cosine similarity matrix...\n",
      "Done computing similarity matrix.\n",
      "Computing the cosine similarity matrix...\n",
      "Done computing similarity matrix.\n",
      "Computing the msd similarity matrix...\n",
      "Done computing similarity matrix.\n",
      "Computing the msd similarity matrix...\n",
      "Done computing similarity matrix.\n",
      "Computing the msd similarity matrix...\n",
      "Done computing similarity matrix.\n",
      "Computing the cosine similarity matrix...\n",
      "Done computing similarity matrix.\n",
      "Computing the cosine similarity matrix...\n",
      "Done computing similarity matrix.\n",
      "Computing the cosine similarity matrix...\n",
      "Done computing similarity matrix.\n",
      "Computing the msd similarity matrix...\n",
      "Done computing similarity matrix.\n",
      "Computing the msd similarity matrix...\n",
      "Done computing similarity matrix.\n",
      "Computing the msd similarity matrix...\n",
      "Done computing similarity matrix.\n",
      "Computing the cosine similarity matrix...\n",
      "Done computing similarity matrix.\n",
      "Computing the cosine similarity matrix...\n",
      "Done computing similarity matrix.\n",
      "Computing the cosine similarity matrix...\n",
      "Done computing similarity matrix.\n"
     ]
    }
   ],
   "source": [
    "gsKNNMeans.fit(cf_surprise)"
   ]
  },
  {
   "cell_type": "code",
   "execution_count": 62,
   "metadata": {},
   "outputs": [
    {
     "data": {
      "text/plain": [
       "{'rmse': {'k': 700, 'sim_options': {'name': 'cosine', 'user_based': True}},\n",
       " 'mae': {'k': 700, 'sim_options': {'name': 'cosine', 'user_based': True}}}"
      ]
     },
     "execution_count": 62,
     "metadata": {},
     "output_type": "execute_result"
    }
   ],
   "source": [
    "gsKNNMeans.best_params"
   ]
  },
  {
   "cell_type": "code",
   "execution_count": 63,
   "metadata": {},
   "outputs": [
    {
     "data": {
      "text/plain": [
       "{'rmse': 1.0715353437122157, 'mae': 0.8265848303883844}"
      ]
     },
     "execution_count": 63,
     "metadata": {},
     "output_type": "execute_result"
    }
   ],
   "source": [
    "gsKNNMeans.best_score"
   ]
  },
  {
   "cell_type": "markdown",
   "metadata": {},
   "source": [
    "------\n",
    "### NMF"
   ]
  },
  {
   "cell_type": "code",
   "execution_count": 29,
   "metadata": {
    "colab": {},
    "colab_type": "code",
    "id": "sUoNcOv63qDQ"
   },
   "outputs": [],
   "source": [
    "from surprise import NMF\n",
    "NMF_cf = NMF()"
   ]
  },
  {
   "cell_type": "code",
   "execution_count": 30,
   "metadata": {
    "colab": {},
    "colab_type": "code",
    "id": "vc9ISbPZ3qDW"
   },
   "outputs": [],
   "source": [
    "NMF_cf.fit(train)\n",
    "predictions_nmf = NMF_cf.test(test)"
   ]
  },
  {
   "cell_type": "code",
   "execution_count": 31,
   "metadata": {
    "colab": {},
    "colab_type": "code",
    "id": "zDHApYjR3qDc",
    "outputId": "87a260e3-356b-46a1-b914-009f459341d6"
   },
   "outputs": [
    {
     "name": "stdout",
     "output_type": "stream",
     "text": [
      "RMSE: 1.1192\n"
     ]
    },
    {
     "data": {
      "text/plain": [
       "1.1192437928532888"
      ]
     },
     "execution_count": 31,
     "metadata": {},
     "output_type": "execute_result"
    }
   ],
   "source": [
    "accuracy.rmse(predictions_nmf)"
   ]
  },
  {
   "cell_type": "code",
   "execution_count": 64,
   "metadata": {},
   "outputs": [],
   "source": [
    "# Including a bias parameter\n",
    "NMF_cf_v2 = NMF(biased = True)"
   ]
  },
  {
   "cell_type": "code",
   "execution_count": 65,
   "metadata": {},
   "outputs": [],
   "source": [
    "NMF_cf_v2.fit(train)\n",
    "predictions_nmf_v2 = NMF_cf_v2.test(test)"
   ]
  },
  {
   "cell_type": "code",
   "execution_count": 66,
   "metadata": {},
   "outputs": [
    {
     "name": "stdout",
     "output_type": "stream",
     "text": [
      "RMSE: 1.0580\n"
     ]
    },
    {
     "data": {
      "text/plain": [
       "1.0580416007074052"
      ]
     },
     "execution_count": 66,
     "metadata": {},
     "output_type": "execute_result"
    }
   ],
   "source": [
    "accuracy.rmse(predictions_nmf_v2)"
   ]
  },
  {
   "cell_type": "code",
   "execution_count": 34,
   "metadata": {
    "colab": {},
    "colab_type": "code",
    "id": "9tKlBwl172Jd"
   },
   "outputs": [],
   "source": [
    "# Fine tuning the NMF model\n",
    "from surprise.model_selection import GridSearchCV"
   ]
  },
  {
   "cell_type": "code",
   "execution_count": 83,
   "metadata": {
    "colab": {},
    "colab_type": "code",
    "id": "IUZWvjR970YL"
   },
   "outputs": [],
   "source": [
    "param_grid = { 'n_factors' : [15] , 'biased' : [True],\n",
    "    'n_epochs': [10], 'init_low': [0.00, 0.001,0.0001],\n",
    "              'lr_bu' : [0.0001, 0.001,0.01] , 'lr_bi' : [0.0001, 0.001,0.01]}\n",
    "\n",
    "gsNMF = GridSearchCV(NMF, param_grid, measures=['rmse', 'mae'], cv=3)\n",
    "#gs.fit(cf_surprise)"
   ]
  },
  {
   "cell_type": "code",
   "execution_count": null,
   "metadata": {
    "colab": {},
    "colab_type": "code",
    "id": "rhar6Cd6-7PA"
   },
   "outputs": [],
   "source": [
    "gsNMF.fit(cf_surprise)"
   ]
  },
  {
   "cell_type": "code",
   "execution_count": 81,
   "metadata": {
    "colab": {},
    "colab_type": "code",
    "id": "VmR9kUWh3qDu"
   },
   "outputs": [
    {
     "data": {
      "text/plain": [
       "{'rmse': {'n_factors': 15,\n",
       "  'biased': True,\n",
       "  'n_epochs': 10,\n",
       "  'init_low': 0.0001,\n",
       "  'lr_bu': 0.01,\n",
       "  'lr_bi': 0.005},\n",
       " 'mae': {'n_factors': 15,\n",
       "  'biased': True,\n",
       "  'n_epochs': 10,\n",
       "  'init_low': 0.01,\n",
       "  'lr_bu': 0.01,\n",
       "  'lr_bi': 0.005}}"
      ]
     },
     "execution_count": 81,
     "metadata": {},
     "output_type": "execute_result"
    }
   ],
   "source": [
    "gsNMF.best_params"
   ]
  },
  {
   "cell_type": "code",
   "execution_count": 82,
   "metadata": {
    "colab": {},
    "colab_type": "code",
    "id": "QybCA46v3qDy"
   },
   "outputs": [
    {
     "data": {
      "text/plain": [
       "{'rmse': 1.0475839075365967, 'mae': 0.8180544161506189}"
      ]
     },
     "execution_count": 82,
     "metadata": {},
     "output_type": "execute_result"
    }
   ],
   "source": [
    "gsNMF.best_score"
   ]
  },
  {
   "cell_type": "markdown",
   "metadata": {
    "colab": {},
    "colab_type": "code",
    "id": "xGa1PZbc3qD0"
   },
   "source": [
    "Using the best parameters "
   ]
  },
  {
   "cell_type": "code",
   "execution_count": 0,
   "metadata": {
    "colab": {},
    "colab_type": "code",
    "id": "vcHkib873qD3"
   },
   "outputs": [],
   "source": []
  },
  {
   "cell_type": "code",
   "execution_count": 0,
   "metadata": {
    "colab": {},
    "colab_type": "code",
    "id": "PYmwg6IS3qD6"
   },
   "outputs": [],
   "source": []
  },
  {
   "cell_type": "markdown",
   "metadata": {
    "colab_type": "text",
    "id": "95vdLrOr3qD8"
   },
   "source": [
    "---\n",
    "### NOT using the surprise package\n",
    "### Baseline model"
   ]
  },
  {
   "cell_type": "code",
   "execution_count": 0,
   "metadata": {
    "colab": {},
    "colab_type": "code",
    "id": "6Vjm81f83qD9"
   },
   "outputs": [],
   "source": [
    "from scipy.sparse import csr_matrix"
   ]
  },
  {
   "cell_type": "code",
   "execution_count": 0,
   "metadata": {
    "colab": {},
    "colab_type": "code",
    "id": "2dAcFsXe3qD-"
   },
   "outputs": [],
   "source": [
    "data_cf_pivot = data_cf.pivot(\n",
    "    index='business_index',\n",
    "    columns='user_index',\n",
    "    values='stars'\n",
    ")"
   ]
  },
  {
   "cell_type": "code",
   "execution_count": 0,
   "metadata": {
    "colab": {},
    "colab_type": "code",
    "id": "9CfalqwY3qED"
   },
   "outputs": [],
   "source": [
    "#data_cf_matrix = csr_matrix(data_cf_pivot.values)"
   ]
  },
  {
   "cell_type": "code",
   "execution_count": 0,
   "metadata": {
    "colab": {},
    "colab_type": "code",
    "id": "qS_5CLWs3qEG"
   },
   "outputs": [],
   "source": [
    "total_mean = data_cf_pivot.mean()"
   ]
  },
  {
   "cell_type": "code",
   "execution_count": 0,
   "metadata": {
    "colab": {},
    "colab_type": "code",
    "id": "x1GrSmHQ3qEJ"
   },
   "outputs": [],
   "source": [
    "avg_rating_user = data_cf_pivot.mean(1)\n",
    "avg_rating_rest = data_cf_pivot.mean(0)\n",
    "data_cf_pivot.shape"
   ]
  },
  {
   "cell_type": "code",
   "execution_count": 0,
   "metadata": {
    "colab": {},
    "colab_type": "code",
    "id": "7poq9rOe3qEM",
    "outputId": "3205ac30-299b-4eea-e6fb-0f22f531082a"
   },
   "outputs": [
    {
     "data": {
      "text/plain": [
       "(16906, 24512)"
      ]
     },
     "execution_count": 85,
     "metadata": {
      "tags": []
     },
     "output_type": "execute_result"
    }
   ],
   "source": [
    "len(avg_rating_user),len(avg_rating_rest)"
   ]
  },
  {
   "cell_type": "code",
   "execution_count": 0,
   "metadata": {
    "colab": {},
    "colab_type": "code",
    "id": "GYt8kHSl3qEP",
    "outputId": "bf54d01a-b9d8-478b-9ddc-e6f12ff79058"
   },
   "outputs": [
    {
     "data": {
      "text/plain": [
       "pandas.core.frame.DataFrame"
      ]
     },
     "execution_count": 142,
     "metadata": {
      "tags": []
     },
     "output_type": "execute_result"
    }
   ],
   "source": [
    "type(data_cf_pivot)"
   ]
  },
  {
   "cell_type": "code",
   "execution_count": 0,
   "metadata": {
    "colab": {},
    "colab_type": "code",
    "id": "hF9ixfYI3qER"
   },
   "outputs": [],
   "source": []
  },
  {
   "cell_type": "code",
   "execution_count": 0,
   "metadata": {
    "colab": {},
    "colab_type": "code",
    "id": "awvhl9423qET"
   },
   "outputs": [],
   "source": [
    "NANs = np.isnan(data_cf_pivot)"
   ]
  },
  {
   "cell_type": "code",
   "execution_count": 0,
   "metadata": {
    "colab": {},
    "colab_type": "code",
    "id": "Py1zIAwD3qEW"
   },
   "outputs": [],
   "source": [
    "for i in range(avg_rating_user):\n",
    "    for j in range(avg_rating_rest):\n",
    "        if NANs[i][j] == True:\n",
    "            b_mean = total_mean - data_cf_pivot[i].mean()\n",
    "            b_r = total_mean - data_cf_pivot[j].mean()\n",
    "            data_cf_pivot[i][j] = total_mean + ()"
   ]
  },
  {
   "cell_type": "code",
   "execution_count": 0,
   "metadata": {
    "colab": {},
    "colab_type": "code",
    "id": "MnyKtTYj3qEY"
   },
   "outputs": [],
   "source": []
  },
  {
   "cell_type": "markdown",
   "metadata": {
    "colab_type": "text",
    "id": "DChm6sFq3qEZ"
   },
   "source": [
    "## KNN for collaborative filtering"
   ]
  },
  {
   "cell_type": "markdown",
   "metadata": {
    "colab_type": "text",
    "id": "eQ_f7S8B3qEZ"
   },
   "source": [
    "Transforming the data into required/necessary form"
   ]
  },
  {
   "cell_type": "code",
   "execution_count": 0,
   "metadata": {
    "colab": {},
    "colab_type": "code",
    "id": "MDiJx11o3qEa"
   },
   "outputs": [],
   "source": [
    "from scipy.sparse import csr_matrix"
   ]
  },
  {
   "cell_type": "code",
   "execution_count": 0,
   "metadata": {
    "colab": {},
    "colab_type": "code",
    "id": "Ew8KYvC03qEc"
   },
   "outputs": [],
   "source": [
    "# High runtime"
   ]
  },
  {
   "cell_type": "code",
   "execution_count": 0,
   "metadata": {
    "colab": {},
    "colab_type": "code",
    "id": "WjP1CZ2b3qEe"
   },
   "outputs": [],
   "source": [
    "data_cf_pivot = data_cf.pivot(\n",
    "    index='user_index',\n",
    "    columns='business_index',\n",
    "    values='stars'\n",
    ").fillna(0)"
   ]
  },
  {
   "cell_type": "code",
   "execution_count": 0,
   "metadata": {
    "colab": {},
    "colab_type": "code",
    "id": "IOmfKVNC3qEg",
    "outputId": "817eb2a6-9d2d-4d0c-99da-d32678aac777"
   },
   "outputs": [
    {
     "data": {
      "text/html": [
       "<div>\n",
       "<style scoped>\n",
       "    .dataframe tbody tr th:only-of-type {\n",
       "        vertical-align: middle;\n",
       "    }\n",
       "\n",
       "    .dataframe tbody tr th {\n",
       "        vertical-align: top;\n",
       "    }\n",
       "\n",
       "    .dataframe thead th {\n",
       "        text-align: right;\n",
       "    }\n",
       "</style>\n",
       "<table border=\"1\" class=\"dataframe\">\n",
       "  <thead>\n",
       "    <tr style=\"text-align: right;\">\n",
       "      <th>business_index</th>\n",
       "      <th>0</th>\n",
       "      <th>1</th>\n",
       "      <th>2</th>\n",
       "      <th>3</th>\n",
       "      <th>4</th>\n",
       "      <th>5</th>\n",
       "      <th>6</th>\n",
       "      <th>7</th>\n",
       "      <th>8</th>\n",
       "      <th>9</th>\n",
       "      <th>...</th>\n",
       "      <th>16896</th>\n",
       "      <th>16897</th>\n",
       "      <th>16898</th>\n",
       "      <th>16899</th>\n",
       "      <th>16900</th>\n",
       "      <th>16901</th>\n",
       "      <th>16902</th>\n",
       "      <th>16903</th>\n",
       "      <th>16904</th>\n",
       "      <th>16905</th>\n",
       "    </tr>\n",
       "    <tr>\n",
       "      <th>user_index</th>\n",
       "      <th></th>\n",
       "      <th></th>\n",
       "      <th></th>\n",
       "      <th></th>\n",
       "      <th></th>\n",
       "      <th></th>\n",
       "      <th></th>\n",
       "      <th></th>\n",
       "      <th></th>\n",
       "      <th></th>\n",
       "      <th></th>\n",
       "      <th></th>\n",
       "      <th></th>\n",
       "      <th></th>\n",
       "      <th></th>\n",
       "      <th></th>\n",
       "      <th></th>\n",
       "      <th></th>\n",
       "      <th></th>\n",
       "      <th></th>\n",
       "      <th></th>\n",
       "    </tr>\n",
       "  </thead>\n",
       "  <tbody>\n",
       "    <tr>\n",
       "      <th>0</th>\n",
       "      <td>4.0</td>\n",
       "      <td>1.0</td>\n",
       "      <td>5.0</td>\n",
       "      <td>5.0</td>\n",
       "      <td>1.0</td>\n",
       "      <td>5.0</td>\n",
       "      <td>3.0</td>\n",
       "      <td>1.0</td>\n",
       "      <td>3.0</td>\n",
       "      <td>4.0</td>\n",
       "      <td>...</td>\n",
       "      <td>0.0</td>\n",
       "      <td>0.0</td>\n",
       "      <td>0.0</td>\n",
       "      <td>0.0</td>\n",
       "      <td>0.0</td>\n",
       "      <td>0.0</td>\n",
       "      <td>0.0</td>\n",
       "      <td>0.0</td>\n",
       "      <td>0.0</td>\n",
       "      <td>0.0</td>\n",
       "    </tr>\n",
       "    <tr>\n",
       "      <th>1</th>\n",
       "      <td>0.0</td>\n",
       "      <td>0.0</td>\n",
       "      <td>0.0</td>\n",
       "      <td>0.0</td>\n",
       "      <td>0.0</td>\n",
       "      <td>0.0</td>\n",
       "      <td>0.0</td>\n",
       "      <td>0.0</td>\n",
       "      <td>0.0</td>\n",
       "      <td>0.0</td>\n",
       "      <td>...</td>\n",
       "      <td>0.0</td>\n",
       "      <td>0.0</td>\n",
       "      <td>0.0</td>\n",
       "      <td>0.0</td>\n",
       "      <td>0.0</td>\n",
       "      <td>0.0</td>\n",
       "      <td>0.0</td>\n",
       "      <td>0.0</td>\n",
       "      <td>0.0</td>\n",
       "      <td>0.0</td>\n",
       "    </tr>\n",
       "    <tr>\n",
       "      <th>2</th>\n",
       "      <td>0.0</td>\n",
       "      <td>0.0</td>\n",
       "      <td>0.0</td>\n",
       "      <td>0.0</td>\n",
       "      <td>0.0</td>\n",
       "      <td>0.0</td>\n",
       "      <td>0.0</td>\n",
       "      <td>0.0</td>\n",
       "      <td>0.0</td>\n",
       "      <td>0.0</td>\n",
       "      <td>...</td>\n",
       "      <td>0.0</td>\n",
       "      <td>0.0</td>\n",
       "      <td>0.0</td>\n",
       "      <td>0.0</td>\n",
       "      <td>0.0</td>\n",
       "      <td>0.0</td>\n",
       "      <td>0.0</td>\n",
       "      <td>0.0</td>\n",
       "      <td>0.0</td>\n",
       "      <td>0.0</td>\n",
       "    </tr>\n",
       "    <tr>\n",
       "      <th>3</th>\n",
       "      <td>0.0</td>\n",
       "      <td>0.0</td>\n",
       "      <td>0.0</td>\n",
       "      <td>0.0</td>\n",
       "      <td>0.0</td>\n",
       "      <td>0.0</td>\n",
       "      <td>0.0</td>\n",
       "      <td>0.0</td>\n",
       "      <td>0.0</td>\n",
       "      <td>0.0</td>\n",
       "      <td>...</td>\n",
       "      <td>0.0</td>\n",
       "      <td>0.0</td>\n",
       "      <td>0.0</td>\n",
       "      <td>0.0</td>\n",
       "      <td>0.0</td>\n",
       "      <td>0.0</td>\n",
       "      <td>0.0</td>\n",
       "      <td>0.0</td>\n",
       "      <td>0.0</td>\n",
       "      <td>0.0</td>\n",
       "    </tr>\n",
       "    <tr>\n",
       "      <th>4</th>\n",
       "      <td>0.0</td>\n",
       "      <td>0.0</td>\n",
       "      <td>0.0</td>\n",
       "      <td>0.0</td>\n",
       "      <td>0.0</td>\n",
       "      <td>0.0</td>\n",
       "      <td>0.0</td>\n",
       "      <td>0.0</td>\n",
       "      <td>0.0</td>\n",
       "      <td>0.0</td>\n",
       "      <td>...</td>\n",
       "      <td>0.0</td>\n",
       "      <td>0.0</td>\n",
       "      <td>0.0</td>\n",
       "      <td>0.0</td>\n",
       "      <td>0.0</td>\n",
       "      <td>0.0</td>\n",
       "      <td>0.0</td>\n",
       "      <td>0.0</td>\n",
       "      <td>0.0</td>\n",
       "      <td>0.0</td>\n",
       "    </tr>\n",
       "  </tbody>\n",
       "</table>\n",
       "<p>5 rows × 16906 columns</p>\n",
       "</div>"
      ],
      "text/plain": [
       "business_index  0      1      2      3      4      5      6      7      8      \\\n",
       "user_index                                                                      \n",
       "0                 4.0    1.0    5.0    5.0    1.0    5.0    3.0    1.0    3.0   \n",
       "1                 0.0    0.0    0.0    0.0    0.0    0.0    0.0    0.0    0.0   \n",
       "2                 0.0    0.0    0.0    0.0    0.0    0.0    0.0    0.0    0.0   \n",
       "3                 0.0    0.0    0.0    0.0    0.0    0.0    0.0    0.0    0.0   \n",
       "4                 0.0    0.0    0.0    0.0    0.0    0.0    0.0    0.0    0.0   \n",
       "\n",
       "business_index  9      ...    16896  16897  16898  16899  16900  16901  16902  \\\n",
       "user_index             ...                                                      \n",
       "0                 4.0  ...      0.0    0.0    0.0    0.0    0.0    0.0    0.0   \n",
       "1                 0.0  ...      0.0    0.0    0.0    0.0    0.0    0.0    0.0   \n",
       "2                 0.0  ...      0.0    0.0    0.0    0.0    0.0    0.0    0.0   \n",
       "3                 0.0  ...      0.0    0.0    0.0    0.0    0.0    0.0    0.0   \n",
       "4                 0.0  ...      0.0    0.0    0.0    0.0    0.0    0.0    0.0   \n",
       "\n",
       "business_index  16903  16904  16905  \n",
       "user_index                           \n",
       "0                 0.0    0.0    0.0  \n",
       "1                 0.0    0.0    0.0  \n",
       "2                 0.0    0.0    0.0  \n",
       "3                 0.0    0.0    0.0  \n",
       "4                 0.0    0.0    0.0  \n",
       "\n",
       "[5 rows x 16906 columns]"
      ]
     },
     "execution_count": 163,
     "metadata": {
      "tags": []
     },
     "output_type": "execute_result"
    }
   ],
   "source": [
    "data_cf_pivot.head()"
   ]
  },
  {
   "cell_type": "code",
   "execution_count": 0,
   "metadata": {
    "colab": {},
    "colab_type": "code",
    "id": "9MbpFO1g3qEi",
    "outputId": "32b6e00a-0ef8-4ec9-e604-20362d01aeae"
   },
   "outputs": [
    {
     "data": {
      "text/plain": [
       "(24512, 16906)"
      ]
     },
     "execution_count": 164,
     "metadata": {
      "tags": []
     },
     "output_type": "execute_result"
    }
   ],
   "source": [
    "data_cf_pivot.shape"
   ]
  },
  {
   "cell_type": "code",
   "execution_count": 0,
   "metadata": {
    "colab": {},
    "colab_type": "code",
    "id": "_wcXS0_P3qEl"
   },
   "outputs": [],
   "source": [
    "# to make memory effective we will be using csr matrix"
   ]
  },
  {
   "cell_type": "code",
   "execution_count": 0,
   "metadata": {
    "colab": {},
    "colab_type": "code",
    "id": "7zb3zoSK3qEm"
   },
   "outputs": [],
   "source": [
    "data_cf_matrix = csr_matrix(data_cf_pivot.values)"
   ]
  },
  {
   "cell_type": "code",
   "execution_count": 0,
   "metadata": {
    "colab": {},
    "colab_type": "code",
    "id": "1Kupw1-S3qEo"
   },
   "outputs": [],
   "source": [
    "from sklearn.neighbors import NearestNeighbors"
   ]
  },
  {
   "cell_type": "markdown",
   "metadata": {
    "colab_type": "text",
    "id": "OQwlXq1H3qEp"
   },
   "source": [
    "Top 10 restaurants"
   ]
  },
  {
   "cell_type": "code",
   "execution_count": 0,
   "metadata": {
    "colab": {},
    "colab_type": "code",
    "id": "-0eTJv4b3qEq"
   },
   "outputs": [],
   "source": [
    "model_knn = NearestNeighbors(metric='cosine', algorithm='brute', n_neighbors=11, n_jobs=-1).fit(data_cf_matrix)"
   ]
  },
  {
   "cell_type": "code",
   "execution_count": 0,
   "metadata": {
    "colab": {},
    "colab_type": "code",
    "id": "f0g5nsfo3qEs"
   },
   "outputs": [],
   "source": [
    "distances, indices = model_knn.kneighbors(data_cf_matrix)"
   ]
  },
  {
   "cell_type": "code",
   "execution_count": 0,
   "metadata": {
    "colab": {},
    "colab_type": "code",
    "id": "sTRrBeEH3qEu",
    "outputId": "5c672249-38d2-4b2c-ba1c-7b0653894c78"
   },
   "outputs": [
    {
     "data": {
      "text/plain": [
       "(array([   0,  167,  901,  902, 1185, 6479,  742,  763,  890,  892, 2641],\n",
       "       dtype=int64),\n",
       " array([2.22044605e-16, 8.25606044e-01, 8.32054397e-01, 8.42598246e-01,\n",
       "        8.44297572e-01, 8.49964124e-01, 8.52980981e-01, 8.60204906e-01,\n",
       "        8.64273235e-01, 8.64819370e-01, 8.66019236e-01]))"
      ]
     },
     "execution_count": 35,
     "metadata": {
      "tags": []
     },
     "output_type": "execute_result"
    }
   ],
   "source": [
    "indices[0],distances[0]"
   ]
  },
  {
   "cell_type": "code",
   "execution_count": 0,
   "metadata": {
    "colab": {},
    "colab_type": "code",
    "id": "-5vbZuhT3qEx",
    "outputId": "1a9b8927-3b37-4289-95e7-8e6d6fc06520"
   },
   "outputs": [
    {
     "data": {
      "text/html": [
       "<div>\n",
       "<style scoped>\n",
       "    .dataframe tbody tr th:only-of-type {\n",
       "        vertical-align: middle;\n",
       "    }\n",
       "\n",
       "    .dataframe tbody tr th {\n",
       "        vertical-align: top;\n",
       "    }\n",
       "\n",
       "    .dataframe thead th {\n",
       "        text-align: right;\n",
       "    }\n",
       "</style>\n",
       "<table border=\"1\" class=\"dataframe\">\n",
       "  <thead>\n",
       "    <tr style=\"text-align: right;\">\n",
       "      <th>user_index</th>\n",
       "      <th>0</th>\n",
       "      <th>1</th>\n",
       "      <th>2</th>\n",
       "      <th>3</th>\n",
       "      <th>4</th>\n",
       "      <th>5</th>\n",
       "      <th>6</th>\n",
       "      <th>7</th>\n",
       "      <th>8</th>\n",
       "      <th>9</th>\n",
       "      <th>...</th>\n",
       "      <th>24502</th>\n",
       "      <th>24503</th>\n",
       "      <th>24504</th>\n",
       "      <th>24505</th>\n",
       "      <th>24506</th>\n",
       "      <th>24507</th>\n",
       "      <th>24508</th>\n",
       "      <th>24509</th>\n",
       "      <th>24510</th>\n",
       "      <th>24511</th>\n",
       "    </tr>\n",
       "    <tr>\n",
       "      <th>business_index</th>\n",
       "      <th></th>\n",
       "      <th></th>\n",
       "      <th></th>\n",
       "      <th></th>\n",
       "      <th></th>\n",
       "      <th></th>\n",
       "      <th></th>\n",
       "      <th></th>\n",
       "      <th></th>\n",
       "      <th></th>\n",
       "      <th></th>\n",
       "      <th></th>\n",
       "      <th></th>\n",
       "      <th></th>\n",
       "      <th></th>\n",
       "      <th></th>\n",
       "      <th></th>\n",
       "      <th></th>\n",
       "      <th></th>\n",
       "      <th></th>\n",
       "      <th></th>\n",
       "    </tr>\n",
       "  </thead>\n",
       "  <tbody>\n",
       "    <tr>\n",
       "      <th>0</th>\n",
       "      <td>4.0</td>\n",
       "      <td>0.0</td>\n",
       "      <td>0.0</td>\n",
       "      <td>0.0</td>\n",
       "      <td>0.0</td>\n",
       "      <td>0.0</td>\n",
       "      <td>0.0</td>\n",
       "      <td>0.0</td>\n",
       "      <td>0.0</td>\n",
       "      <td>0.0</td>\n",
       "      <td>...</td>\n",
       "      <td>0.0</td>\n",
       "      <td>0.0</td>\n",
       "      <td>0.0</td>\n",
       "      <td>0.0</td>\n",
       "      <td>0.0</td>\n",
       "      <td>0.0</td>\n",
       "      <td>0.0</td>\n",
       "      <td>0.0</td>\n",
       "      <td>0.0</td>\n",
       "      <td>0.0</td>\n",
       "    </tr>\n",
       "    <tr>\n",
       "      <th>1</th>\n",
       "      <td>1.0</td>\n",
       "      <td>0.0</td>\n",
       "      <td>0.0</td>\n",
       "      <td>0.0</td>\n",
       "      <td>0.0</td>\n",
       "      <td>0.0</td>\n",
       "      <td>0.0</td>\n",
       "      <td>0.0</td>\n",
       "      <td>0.0</td>\n",
       "      <td>0.0</td>\n",
       "      <td>...</td>\n",
       "      <td>0.0</td>\n",
       "      <td>0.0</td>\n",
       "      <td>0.0</td>\n",
       "      <td>0.0</td>\n",
       "      <td>0.0</td>\n",
       "      <td>0.0</td>\n",
       "      <td>0.0</td>\n",
       "      <td>0.0</td>\n",
       "      <td>0.0</td>\n",
       "      <td>0.0</td>\n",
       "    </tr>\n",
       "    <tr>\n",
       "      <th>2</th>\n",
       "      <td>5.0</td>\n",
       "      <td>0.0</td>\n",
       "      <td>0.0</td>\n",
       "      <td>0.0</td>\n",
       "      <td>0.0</td>\n",
       "      <td>0.0</td>\n",
       "      <td>0.0</td>\n",
       "      <td>0.0</td>\n",
       "      <td>0.0</td>\n",
       "      <td>0.0</td>\n",
       "      <td>...</td>\n",
       "      <td>0.0</td>\n",
       "      <td>0.0</td>\n",
       "      <td>0.0</td>\n",
       "      <td>0.0</td>\n",
       "      <td>0.0</td>\n",
       "      <td>0.0</td>\n",
       "      <td>0.0</td>\n",
       "      <td>0.0</td>\n",
       "      <td>0.0</td>\n",
       "      <td>0.0</td>\n",
       "    </tr>\n",
       "    <tr>\n",
       "      <th>3</th>\n",
       "      <td>5.0</td>\n",
       "      <td>0.0</td>\n",
       "      <td>0.0</td>\n",
       "      <td>0.0</td>\n",
       "      <td>0.0</td>\n",
       "      <td>0.0</td>\n",
       "      <td>0.0</td>\n",
       "      <td>0.0</td>\n",
       "      <td>0.0</td>\n",
       "      <td>0.0</td>\n",
       "      <td>...</td>\n",
       "      <td>0.0</td>\n",
       "      <td>0.0</td>\n",
       "      <td>0.0</td>\n",
       "      <td>0.0</td>\n",
       "      <td>0.0</td>\n",
       "      <td>0.0</td>\n",
       "      <td>0.0</td>\n",
       "      <td>0.0</td>\n",
       "      <td>0.0</td>\n",
       "      <td>0.0</td>\n",
       "    </tr>\n",
       "    <tr>\n",
       "      <th>4</th>\n",
       "      <td>1.0</td>\n",
       "      <td>0.0</td>\n",
       "      <td>0.0</td>\n",
       "      <td>0.0</td>\n",
       "      <td>0.0</td>\n",
       "      <td>0.0</td>\n",
       "      <td>0.0</td>\n",
       "      <td>0.0</td>\n",
       "      <td>0.0</td>\n",
       "      <td>0.0</td>\n",
       "      <td>...</td>\n",
       "      <td>0.0</td>\n",
       "      <td>0.0</td>\n",
       "      <td>0.0</td>\n",
       "      <td>0.0</td>\n",
       "      <td>0.0</td>\n",
       "      <td>0.0</td>\n",
       "      <td>0.0</td>\n",
       "      <td>0.0</td>\n",
       "      <td>0.0</td>\n",
       "      <td>0.0</td>\n",
       "    </tr>\n",
       "  </tbody>\n",
       "</table>\n",
       "<p>5 rows × 24512 columns</p>\n",
       "</div>"
      ],
      "text/plain": [
       "user_index      0      1      2      3      4      5      6      7      8      \\\n",
       "business_index                                                                  \n",
       "0                 4.0    0.0    0.0    0.0    0.0    0.0    0.0    0.0    0.0   \n",
       "1                 1.0    0.0    0.0    0.0    0.0    0.0    0.0    0.0    0.0   \n",
       "2                 5.0    0.0    0.0    0.0    0.0    0.0    0.0    0.0    0.0   \n",
       "3                 5.0    0.0    0.0    0.0    0.0    0.0    0.0    0.0    0.0   \n",
       "4                 1.0    0.0    0.0    0.0    0.0    0.0    0.0    0.0    0.0   \n",
       "\n",
       "user_index      9      ...    24502  24503  24504  24505  24506  24507  24508  \\\n",
       "business_index         ...                                                      \n",
       "0                 0.0  ...      0.0    0.0    0.0    0.0    0.0    0.0    0.0   \n",
       "1                 0.0  ...      0.0    0.0    0.0    0.0    0.0    0.0    0.0   \n",
       "2                 0.0  ...      0.0    0.0    0.0    0.0    0.0    0.0    0.0   \n",
       "3                 0.0  ...      0.0    0.0    0.0    0.0    0.0    0.0    0.0   \n",
       "4                 0.0  ...      0.0    0.0    0.0    0.0    0.0    0.0    0.0   \n",
       "\n",
       "user_index      24509  24510  24511  \n",
       "business_index                       \n",
       "0                 0.0    0.0    0.0  \n",
       "1                 0.0    0.0    0.0  \n",
       "2                 0.0    0.0    0.0  \n",
       "3                 0.0    0.0    0.0  \n",
       "4                 0.0    0.0    0.0  \n",
       "\n",
       "[5 rows x 24512 columns]"
      ]
     },
     "execution_count": 40,
     "metadata": {
      "tags": []
     },
     "output_type": "execute_result"
    }
   ],
   "source": [
    "data_cf_pivot.head()"
   ]
  }
 ],
 "metadata": {
  "accelerator": "GPU",
  "colab": {
   "name": "Collaborative_filtering.ipynb",
   "provenance": [],
   "version": "0.3.2"
  },
  "kernelspec": {
   "display_name": "Python 3",
   "language": "python",
   "name": "python3"
  },
  "language_info": {
   "codemirror_mode": {
    "name": "ipython",
    "version": 3
   },
   "file_extension": ".py",
   "mimetype": "text/x-python",
   "name": "python",
   "nbconvert_exporter": "python",
   "pygments_lexer": "ipython3",
   "version": "3.7.3"
  }
 },
 "nbformat": 4,
 "nbformat_minor": 1
}
