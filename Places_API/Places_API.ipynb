{
 "cells": [
  {
   "cell_type": "code",
   "execution_count": 1,
   "metadata": {},
   "outputs": [],
   "source": [
    "import pandas as pd\n",
    "import numpy as np\n",
    "import json\n",
    "import geopandas as gp\n",
    "import matplotlib.pyplot as plt"
   ]
  },
  {
   "cell_type": "code",
   "execution_count": 2,
   "metadata": {},
   "outputs": [],
   "source": [
    "import googlemaps as gm\n",
    "import pprint\n",
    "import time"
   ]
  },
  {
   "cell_type": "code",
   "execution_count": 4,
   "metadata": {},
   "outputs": [],
   "source": [
    "API_key = ''\n",
    "#paste your API here"
   ]
  },
  {
   "cell_type": "code",
   "execution_count": 5,
   "metadata": {},
   "outputs": [],
   "source": [
    "# Defining our client\n",
    "gmaps = gm.Client(key = API_key)"
   ]
  },
  {
   "cell_type": "markdown",
   "metadata": {},
   "source": [
    "Using places_nearby function"
   ]
  },
  {
   "cell_type": "code",
   "execution_count": 311,
   "metadata": {},
   "outputs": [],
   "source": [
    "places_result = gmaps.places_nearby(location='47.980709, 8.929490',radius=40000,open_now= False, type = 'cafe')"
   ]
  },
  {
   "cell_type": "code",
   "execution_count": 312,
   "metadata": {},
   "outputs": [],
   "source": [
    "places_result = pd.DataFrame(places_result['results'])"
   ]
  },
  {
   "cell_type": "code",
   "execution_count": 313,
   "metadata": {},
   "outputs": [
    {
     "data": {
      "text/plain": [
       "20"
      ]
     },
     "execution_count": 313,
     "metadata": {},
     "output_type": "execute_result"
    }
   ],
   "source": [
    "len(places_result)"
   ]
  },
  {
   "cell_type": "markdown",
   "metadata": {},
   "source": [
    "Using Find Place requests function"
   ]
  },
  {
   "cell_type": "code",
   "execution_count": 314,
   "metadata": {},
   "outputs": [],
   "source": [
    "find_place_result = gmaps.find_place(input= 'Hotel Garni Iris am See', input_type= 'textquery')"
   ]
  },
  {
   "cell_type": "code",
   "execution_count": 315,
   "metadata": {},
   "outputs": [
    {
     "name": "stdout",
     "output_type": "stream",
     "text": [
      "{'candidates': [{'place_id': 'ChIJMzX979lhmkcRE5rdeQGWPQA'}], 'status': 'OK'}\n"
     ]
    }
   ],
   "source": [
    "pprint.pprint(find_place_result)"
   ]
  },
  {
   "cell_type": "code",
   "execution_count": 316,
   "metadata": {},
   "outputs": [],
   "source": [
    "cd = find_place_result['candidates']\n",
    "place_id_new = cd[0]['place_id']"
   ]
  },
  {
   "cell_type": "markdown",
   "metadata": {},
   "source": [
    "Using place details function"
   ]
  },
  {
   "cell_type": "code",
   "execution_count": 317,
   "metadata": {},
   "outputs": [],
   "source": [
    "my_fields = [\"adr_address\", \"alt_id\", \"formatted_address\",\n",
    "    \"geometry\", \"icon\", \"id\", \"name\", \"permanently_closed\",\n",
    "    \"place_id\", \"plus_code\",  \"type\", \"url\", \"utc_offset\", \"vicinity\"]\n",
    "# Not able to use 'user_ratings_total' field which should have been under basic set"
   ]
  },
  {
   "cell_type": "code",
   "execution_count": 318,
   "metadata": {},
   "outputs": [],
   "source": [
    "places_details = gmaps.place(place_id= place_id_new,fields= my_fields)"
   ]
  },
  {
   "cell_type": "code",
   "execution_count": 319,
   "metadata": {},
   "outputs": [
    {
     "name": "stdout",
     "output_type": "stream",
     "text": [
      "{'html_attributions': [],\n",
      " 'result': {'adr_address': '<span class=\"street-address\">Rebsteig 2</span>, '\n",
      "                           '<span class=\"postal-code\">78315</span> <span '\n",
      "                           'class=\"locality\">Radolfzell am Bodensee</span>, '\n",
      "                           '<span class=\"country-name\">Germany</span>',\n",
      "            'formatted_address': 'Rebsteig 2, 78315 Radolfzell am Bodensee, '\n",
      "                                 'Germany',\n",
      "            'geometry': {'location': {'lat': 47.73292199999999,\n",
      "                                      'lng': 8.984551},\n",
      "                         'viewport': {'northeast': {'lat': 47.73426328029149,\n",
      "                                                    'lng': 8.985923180291502},\n",
      "                                      'southwest': {'lat': 47.73156531970849,\n",
      "                                                    'lng': 8.983225219708498}}},\n",
      "            'icon': 'https://maps.gstatic.com/mapfiles/place_api/icons/lodging-71.png',\n",
      "            'id': '23ec75ea889247d87907a57397a0b8e548440fb6',\n",
      "            'name': 'Hotel Garni Iris am See',\n",
      "            'place_id': 'ChIJMzX979lhmkcRE5rdeQGWPQA',\n",
      "            'plus_code': {'compound_code': 'PXMM+5R Radolfzell, Germany',\n",
      "                          'global_code': '8FVCPXMM+5R'},\n",
      "            'types': ['cafe',\n",
      "                      'store',\n",
      "                      'lodging',\n",
      "                      'restaurant',\n",
      "                      'point_of_interest',\n",
      "                      'food',\n",
      "                      'establishment'],\n",
      "            'url': 'https://maps.google.com/?cid=17334906663049747',\n",
      "            'utc_offset': 60,\n",
      "            'vicinity': 'Rebsteig 2, Radolfzell am Bodensee'},\n",
      " 'status': 'OK'}\n"
     ]
    }
   ],
   "source": [
    "pprint.pprint(places_details)"
   ]
  },
  {
   "cell_type": "markdown",
   "metadata": {},
   "source": [
    "Extracting only restaurant data "
   ]
  },
  {
   "cell_type": "code",
   "execution_count": 320,
   "metadata": {},
   "outputs": [],
   "source": [
    "restaurants_near_DAO = gmaps.places_nearby(location='41.892690, -87.621900',radius=40000,open_now= False, type = 'restaurants')"
   ]
  },
  {
   "cell_type": "code",
   "execution_count": null,
   "metadata": {},
   "outputs": [],
   "source": [
    "Rest_near_DAO = []"
   ]
  },
  {
   "cell_type": "code",
   "execution_count": null,
   "metadata": {},
   "outputs": [],
   "source": [
    "for place in restaurants_near_DAO['results']:\n",
    "    place_id_res = place['place_id']\n",
    "    places_details = gmaps.place(place_id= place_id_res,fields= my_fields)\n",
    "    Rest_near_DAO.append(places_details['result'])"
   ]
  },
  {
   "cell_type": "code",
   "execution_count": null,
   "metadata": {},
   "outputs": [],
   "source": [
    "len(Rest_near_DAO)"
   ]
  },
  {
   "cell_type": "code",
   "execution_count": null,
   "metadata": {},
   "outputs": [],
   "source": []
  },
  {
   "cell_type": "code",
   "execution_count": null,
   "metadata": {},
   "outputs": [],
   "source": []
  },
  {
   "cell_type": "code",
   "execution_count": null,
   "metadata": {},
   "outputs": [],
   "source": []
  },
  {
   "cell_type": "code",
   "execution_count": null,
   "metadata": {},
   "outputs": [],
   "source": []
  },
  {
   "cell_type": "code",
   "execution_count": 5,
   "metadata": {},
   "outputs": [],
   "source": [
    "business_data_cleaned = pd.DataFrame(pd.read_csv('C:\\\\Users\\\\Sanchayni\\\\Desktop\\\\Spring19\\\\DPA\\\\Project\\\\yelp_dataset\\\\business.csv'))"
   ]
  },
  {
   "cell_type": "code",
   "execution_count": null,
   "metadata": {},
   "outputs": [],
   "source": [
    "len(business_data_cleaned)*0.5/60"
   ]
  },
  {
   "cell_type": "markdown",
   "metadata": {},
   "source": [
    "Lets say we want 30% data from google API that's 7440 restaurants. <br>\n",
    "Thus we would need 124 (60 restaurants per cluster) cluster centers"
   ]
  },
  {
   "cell_type": "code",
   "execution_count": 6,
   "metadata": {},
   "outputs": [],
   "source": [
    "import seaborn as sns \n",
    "sns.set()"
   ]
  },
  {
   "cell_type": "code",
   "execution_count": 7,
   "metadata": {},
   "outputs": [],
   "source": [
    "world = gp.read_file(gp.datasets.get_path('naturalearth_lowres'))"
   ]
  },
  {
   "cell_type": "code",
   "execution_count": 8,
   "metadata": {},
   "outputs": [],
   "source": [
    "from shapely.geometry import Point"
   ]
  },
  {
   "cell_type": "markdown",
   "metadata": {},
   "source": [
    "The points function needs parameters as ('Lon','Lat') not the other way around"
   ]
  },
  {
   "cell_type": "code",
   "execution_count": 9,
   "metadata": {},
   "outputs": [],
   "source": [
    "# Creating point coordinates from lat and long\n",
    "business_data_cleaned['location_coordinates'] = list(zip(business_data_cleaned.longitude  , business_data_cleaned.latitude))\n",
    "business_data_cleaned['location_coordinates'] = business_data_cleaned['location_coordinates'].apply(Point)"
   ]
  },
  {
   "cell_type": "code",
   "execution_count": 10,
   "metadata": {},
   "outputs": [],
   "source": [
    "geo_business_data_cleaned = gp.GeoDataFrame(business_data_cleaned, geometry='location_coordinates')"
   ]
  },
  {
   "cell_type": "code",
   "execution_count": 12,
   "metadata": {},
   "outputs": [
    {
     "data": {
      "text/html": [
       "<div>\n",
       "<style scoped>\n",
       "    .dataframe tbody tr th:only-of-type {\n",
       "        vertical-align: middle;\n",
       "    }\n",
       "\n",
       "    .dataframe tbody tr th {\n",
       "        vertical-align: top;\n",
       "    }\n",
       "\n",
       "    .dataframe thead th {\n",
       "        text-align: right;\n",
       "    }\n",
       "</style>\n",
       "<table border=\"1\" class=\"dataframe\">\n",
       "  <thead>\n",
       "    <tr style=\"text-align: right;\">\n",
       "      <th></th>\n",
       "      <th>business_id</th>\n",
       "      <th>name</th>\n",
       "      <th>address</th>\n",
       "      <th>city</th>\n",
       "      <th>state</th>\n",
       "      <th>postal_code</th>\n",
       "      <th>latitude</th>\n",
       "      <th>longitude</th>\n",
       "      <th>stars</th>\n",
       "      <th>review_count</th>\n",
       "      <th>...</th>\n",
       "      <th>australian</th>\n",
       "      <th>pub food</th>\n",
       "      <th>south african</th>\n",
       "      <th>soba</th>\n",
       "      <th>calabrian</th>\n",
       "      <th>pita</th>\n",
       "      <th>hong kong style cafe</th>\n",
       "      <th>churros</th>\n",
       "      <th>iberian</th>\n",
       "      <th>location_coordinates</th>\n",
       "    </tr>\n",
       "  </thead>\n",
       "  <tbody>\n",
       "    <tr>\n",
       "      <th>0</th>\n",
       "      <td>gnKjwL_1w79qoiV3IC_xQQ</td>\n",
       "      <td>Musashi Japanese Restaurant</td>\n",
       "      <td>10110 Johnston Rd, Ste 15</td>\n",
       "      <td>charlotte</td>\n",
       "      <td>NC</td>\n",
       "      <td>28210.0</td>\n",
       "      <td>35.092564</td>\n",
       "      <td>-80.859132</td>\n",
       "      <td>4.0</td>\n",
       "      <td>170</td>\n",
       "      <td>...</td>\n",
       "      <td>0</td>\n",
       "      <td>0</td>\n",
       "      <td>0</td>\n",
       "      <td>0</td>\n",
       "      <td>0</td>\n",
       "      <td>0</td>\n",
       "      <td>0</td>\n",
       "      <td>0</td>\n",
       "      <td>0</td>\n",
       "      <td>POINT (-80.85913199999999 35.092564)</td>\n",
       "    </tr>\n",
       "    <tr>\n",
       "      <th>1</th>\n",
       "      <td>1Dfx3zM-rW4n-31KeC8sJg</td>\n",
       "      <td>Taco Bell</td>\n",
       "      <td>2450 E Indian School Rd</td>\n",
       "      <td>phoenix</td>\n",
       "      <td>AZ</td>\n",
       "      <td>85016.0</td>\n",
       "      <td>33.495194</td>\n",
       "      <td>-112.028588</td>\n",
       "      <td>3.0</td>\n",
       "      <td>18</td>\n",
       "      <td>...</td>\n",
       "      <td>0</td>\n",
       "      <td>0</td>\n",
       "      <td>0</td>\n",
       "      <td>0</td>\n",
       "      <td>0</td>\n",
       "      <td>0</td>\n",
       "      <td>0</td>\n",
       "      <td>0</td>\n",
       "      <td>0</td>\n",
       "      <td>POINT (-112.0285876 33.4951941)</td>\n",
       "    </tr>\n",
       "    <tr>\n",
       "      <th>2</th>\n",
       "      <td>fweCYi8FmbJXHCqLnwuk8w</td>\n",
       "      <td>Marco's Pizza</td>\n",
       "      <td>5981 Andrews Rd</td>\n",
       "      <td>mentor on the lake</td>\n",
       "      <td>OH</td>\n",
       "      <td>44060.0</td>\n",
       "      <td>41.708520</td>\n",
       "      <td>-81.359556</td>\n",
       "      <td>4.0</td>\n",
       "      <td>16</td>\n",
       "      <td>...</td>\n",
       "      <td>0</td>\n",
       "      <td>0</td>\n",
       "      <td>0</td>\n",
       "      <td>0</td>\n",
       "      <td>0</td>\n",
       "      <td>0</td>\n",
       "      <td>0</td>\n",
       "      <td>0</td>\n",
       "      <td>0</td>\n",
       "      <td>POINT (-81.35955600000001 41.70852)</td>\n",
       "    </tr>\n",
       "    <tr>\n",
       "      <th>3</th>\n",
       "      <td>1RHY4K3BD22FK7Cfftn8Mg</td>\n",
       "      <td>Marathon Diner</td>\n",
       "      <td>Center Core - Food Court, Fl 3, Pittsburgh Int...</td>\n",
       "      <td>pittsburgh</td>\n",
       "      <td>PA</td>\n",
       "      <td>15231.0</td>\n",
       "      <td>40.496177</td>\n",
       "      <td>-80.246011</td>\n",
       "      <td>4.0</td>\n",
       "      <td>35</td>\n",
       "      <td>...</td>\n",
       "      <td>0</td>\n",
       "      <td>0</td>\n",
       "      <td>0</td>\n",
       "      <td>0</td>\n",
       "      <td>0</td>\n",
       "      <td>0</td>\n",
       "      <td>0</td>\n",
       "      <td>0</td>\n",
       "      <td>0</td>\n",
       "      <td>POINT (-80.24601123640001 40.4961769456)</td>\n",
       "    </tr>\n",
       "    <tr>\n",
       "      <th>4</th>\n",
       "      <td>tstimHoMcYbkSC4eBA1wEg</td>\n",
       "      <td>Maria's Mexican Restaurant &amp; Bakery</td>\n",
       "      <td>6055 E Lake Mead Blvd</td>\n",
       "      <td>las vegas</td>\n",
       "      <td>NV</td>\n",
       "      <td>89156.0</td>\n",
       "      <td>36.195615</td>\n",
       "      <td>-115.040529</td>\n",
       "      <td>4.5</td>\n",
       "      <td>184</td>\n",
       "      <td>...</td>\n",
       "      <td>0</td>\n",
       "      <td>0</td>\n",
       "      <td>0</td>\n",
       "      <td>0</td>\n",
       "      <td>0</td>\n",
       "      <td>0</td>\n",
       "      <td>0</td>\n",
       "      <td>0</td>\n",
       "      <td>0</td>\n",
       "      <td>POINT (-115.0405289 36.1956146)</td>\n",
       "    </tr>\n",
       "  </tbody>\n",
       "</table>\n",
       "<p>5 rows × 247 columns</p>\n",
       "</div>"
      ],
      "text/plain": [
       "              business_id                                 name  \\\n",
       "0  gnKjwL_1w79qoiV3IC_xQQ          Musashi Japanese Restaurant   \n",
       "1  1Dfx3zM-rW4n-31KeC8sJg                            Taco Bell   \n",
       "2  fweCYi8FmbJXHCqLnwuk8w                        Marco's Pizza   \n",
       "3  1RHY4K3BD22FK7Cfftn8Mg                       Marathon Diner   \n",
       "4  tstimHoMcYbkSC4eBA1wEg  Maria's Mexican Restaurant & Bakery   \n",
       "\n",
       "                                             address                city  \\\n",
       "0                          10110 Johnston Rd, Ste 15           charlotte   \n",
       "1                            2450 E Indian School Rd             phoenix   \n",
       "2                                    5981 Andrews Rd  mentor on the lake   \n",
       "3  Center Core - Food Court, Fl 3, Pittsburgh Int...          pittsburgh   \n",
       "4                              6055 E Lake Mead Blvd           las vegas   \n",
       "\n",
       "  state  postal_code   latitude   longitude  stars  review_count  \\\n",
       "0    NC      28210.0  35.092564  -80.859132    4.0           170   \n",
       "1    AZ      85016.0  33.495194 -112.028588    3.0            18   \n",
       "2    OH      44060.0  41.708520  -81.359556    4.0            16   \n",
       "3    PA      15231.0  40.496177  -80.246011    4.0            35   \n",
       "4    NV      89156.0  36.195615 -115.040529    4.5           184   \n",
       "\n",
       "                     ...                    australian pub food south african  \\\n",
       "0                    ...                             0        0             0   \n",
       "1                    ...                             0        0             0   \n",
       "2                    ...                             0        0             0   \n",
       "3                    ...                             0        0             0   \n",
       "4                    ...                             0        0             0   \n",
       "\n",
       "   soba  calabrian  pita  hong kong style cafe  churros  iberian  \\\n",
       "0     0          0     0                     0        0        0   \n",
       "1     0          0     0                     0        0        0   \n",
       "2     0          0     0                     0        0        0   \n",
       "3     0          0     0                     0        0        0   \n",
       "4     0          0     0                     0        0        0   \n",
       "\n",
       "                       location_coordinates  \n",
       "0      POINT (-80.85913199999999 35.092564)  \n",
       "1           POINT (-112.0285876 33.4951941)  \n",
       "2       POINT (-81.35955600000001 41.70852)  \n",
       "3  POINT (-80.24601123640001 40.4961769456)  \n",
       "4           POINT (-115.0405289 36.1956146)  \n",
       "\n",
       "[5 rows x 247 columns]"
      ]
     },
     "execution_count": 12,
     "metadata": {},
     "output_type": "execute_result"
    }
   ],
   "source": [
    "geo_business_data_cleaned.head()"
   ]
  },
  {
   "cell_type": "code",
   "execution_count": 13,
   "metadata": {},
   "outputs": [
    {
     "data": {
      "image/png": "[encoded data removed]",
      "text/plain": [
       "<Figure size 864x504 with 1 Axes>"
      ]
     },
     "metadata": {},
     "output_type": "display_data"
    }
   ],
   "source": [
    "ax = world.loc[world['iso_a3'] == 'USA',:].plot(edgecolor='k', facecolor='white')\n",
    "geo_business_data_cleaned.plot(ax = ax, markersize = 10)\n",
    "ax.set(xlim=(-130, -60), ylim=(20,55))\n",
    "plt.gcf().set_size_inches(12,7)\n",
    "plt.show()"
   ]
  },
  {
   "cell_type": "markdown",
   "metadata": {},
   "source": [
    "### To find centers of our clustered data lets find clusters based on Latitude and Longitude"
   ]
  },
  {
   "cell_type": "code",
   "execution_count": 14,
   "metadata": {},
   "outputs": [],
   "source": [
    "from sklearn.cluster import KMeans"
   ]
  },
  {
   "cell_type": "code",
   "execution_count": 15,
   "metadata": {},
   "outputs": [],
   "source": [
    "import random"
   ]
  },
  {
   "cell_type": "code",
   "execution_count": 16,
   "metadata": {},
   "outputs": [],
   "source": [
    "random.seed(251)\n",
    "no_of_clusters = 300"
   ]
  },
  {
   "cell_type": "code",
   "execution_count": 17,
   "metadata": {},
   "outputs": [],
   "source": [
    "kmeans = KMeans(n_clusters=no_of_clusters,n_init=20)"
   ]
  },
  {
   "cell_type": "code",
   "execution_count": 18,
   "metadata": {},
   "outputs": [],
   "source": [
    "Business_lat_long = business_data_cleaned[['latitude','longitude']]"
   ]
  },
  {
   "cell_type": "code",
   "execution_count": 19,
   "metadata": {},
   "outputs": [
    {
     "data": {
      "text/plain": [
       "KMeans(algorithm='auto', copy_x=True, init='k-means++', max_iter=300,\n",
       "    n_clusters=300, n_init=20, n_jobs=1, precompute_distances='auto',\n",
       "    random_state=None, tol=0.0001, verbose=0)"
      ]
     },
     "execution_count": 19,
     "metadata": {},
     "output_type": "execute_result"
    }
   ],
   "source": [
    "kmeans.fit(Business_lat_long)"
   ]
  },
  {
   "cell_type": "code",
   "execution_count": 20,
   "metadata": {},
   "outputs": [
    {
     "name": "stderr",
     "output_type": "stream",
     "text": [
      "C:\\Users\\Sanchayni\\Anaconda3\\lib\\site-packages\\ipykernel_launcher.py:1: SettingWithCopyWarning: \n",
      "A value is trying to be set on a copy of a slice from a DataFrame.\n",
      "Try using .loc[row_indexer,col_indexer] = value instead\n",
      "\n",
      "See the caveats in the documentation: http://pandas.pydata.org/pandas-docs/stable/indexing.html#indexing-view-versus-copy\n",
      "  \"\"\"Entry point for launching an IPython kernel.\n"
     ]
    }
   ],
   "source": [
    "Business_lat_long['cluster_pred'] = kmeans.predict(Business_lat_long)"
   ]
  },
  {
   "cell_type": "code",
   "execution_count": 21,
   "metadata": {},
   "outputs": [
    {
     "data": {
      "text/plain": [
       "<function matplotlib.pyplot.show>"
      ]
     },
     "execution_count": 21,
     "metadata": {},
     "output_type": "execute_result"
    },
    {
     "data": {
      "image/png": "[encoded data removed]",
      "text/plain": [
       "<Figure size 432x288 with 1 Axes>"
      ]
     },
     "metadata": {},
     "output_type": "display_data"
    }
   ],
   "source": [
    "plt.scatter( Business_lat_long['longitude'], Business_lat_long['latitude'], c=Business_lat_long['cluster_pred'], s=50, cmap='tab20')\n",
    "plt.show"
   ]
  },
  {
   "cell_type": "code",
   "execution_count": 22,
   "metadata": {},
   "outputs": [
    {
     "name": "stderr",
     "output_type": "stream",
     "text": [
      "C:\\Users\\Sanchayni\\Anaconda3\\lib\\site-packages\\ipykernel_launcher.py:2: SettingWithCopyWarning: \n",
      "A value is trying to be set on a copy of a slice from a DataFrame.\n",
      "Try using .loc[row_indexer,col_indexer] = value instead\n",
      "\n",
      "See the caveats in the documentation: http://pandas.pydata.org/pandas-docs/stable/indexing.html#indexing-view-versus-copy\n",
      "  \n",
      "C:\\Users\\Sanchayni\\Anaconda3\\lib\\site-packages\\ipykernel_launcher.py:3: SettingWithCopyWarning: \n",
      "A value is trying to be set on a copy of a slice from a DataFrame.\n",
      "Try using .loc[row_indexer,col_indexer] = value instead\n",
      "\n",
      "See the caveats in the documentation: http://pandas.pydata.org/pandas-docs/stable/indexing.html#indexing-view-versus-copy\n",
      "  This is separate from the ipykernel package so we can avoid doing imports until\n"
     ]
    }
   ],
   "source": [
    "# Creating point coordinates from lat and long\n",
    "Business_lat_long['location_coordinates'] = list(zip(Business_lat_long.longitude , Business_lat_long.latitude))\n",
    "Business_lat_long['location_coordinates'] = Business_lat_long['location_coordinates'].apply(Point)"
   ]
  },
  {
   "cell_type": "code",
   "execution_count": 23,
   "metadata": {},
   "outputs": [],
   "source": [
    "geo_Business_lat_long = gp.GeoDataFrame(Business_lat_long, geometry='location_coordinates')"
   ]
  },
  {
   "cell_type": "code",
   "execution_count": 24,
   "metadata": {},
   "outputs": [
    {
     "data": {
      "text/html": [
       "<div>\n",
       "<style scoped>\n",
       "    .dataframe tbody tr th:only-of-type {\n",
       "        vertical-align: middle;\n",
       "    }\n",
       "\n",
       "    .dataframe tbody tr th {\n",
       "        vertical-align: top;\n",
       "    }\n",
       "\n",
       "    .dataframe thead th {\n",
       "        text-align: right;\n",
       "    }\n",
       "</style>\n",
       "<table border=\"1\" class=\"dataframe\">\n",
       "  <thead>\n",
       "    <tr style=\"text-align: right;\">\n",
       "      <th></th>\n",
       "      <th>latitude</th>\n",
       "      <th>longitude</th>\n",
       "      <th>cluster_pred</th>\n",
       "      <th>location_coordinates</th>\n",
       "    </tr>\n",
       "  </thead>\n",
       "  <tbody>\n",
       "    <tr>\n",
       "      <th>0</th>\n",
       "      <td>35.092564</td>\n",
       "      <td>-80.859132</td>\n",
       "      <td>17</td>\n",
       "      <td>POINT (-80.85913199999999 35.092564)</td>\n",
       "    </tr>\n",
       "    <tr>\n",
       "      <th>1</th>\n",
       "      <td>33.495194</td>\n",
       "      <td>-112.028588</td>\n",
       "      <td>211</td>\n",
       "      <td>POINT (-112.0285876 33.4951941)</td>\n",
       "    </tr>\n",
       "    <tr>\n",
       "      <th>2</th>\n",
       "      <td>41.708520</td>\n",
       "      <td>-81.359556</td>\n",
       "      <td>64</td>\n",
       "      <td>POINT (-81.35955600000001 41.70852)</td>\n",
       "    </tr>\n",
       "    <tr>\n",
       "      <th>3</th>\n",
       "      <td>40.496177</td>\n",
       "      <td>-80.246011</td>\n",
       "      <td>148</td>\n",
       "      <td>POINT (-80.24601123640001 40.4961769456)</td>\n",
       "    </tr>\n",
       "    <tr>\n",
       "      <th>4</th>\n",
       "      <td>36.195615</td>\n",
       "      <td>-115.040529</td>\n",
       "      <td>38</td>\n",
       "      <td>POINT (-115.0405289 36.1956146)</td>\n",
       "    </tr>\n",
       "  </tbody>\n",
       "</table>\n",
       "</div>"
      ],
      "text/plain": [
       "    latitude   longitude  cluster_pred  \\\n",
       "0  35.092564  -80.859132            17   \n",
       "1  33.495194 -112.028588           211   \n",
       "2  41.708520  -81.359556            64   \n",
       "3  40.496177  -80.246011           148   \n",
       "4  36.195615 -115.040529            38   \n",
       "\n",
       "                       location_coordinates  \n",
       "0      POINT (-80.85913199999999 35.092564)  \n",
       "1           POINT (-112.0285876 33.4951941)  \n",
       "2       POINT (-81.35955600000001 41.70852)  \n",
       "3  POINT (-80.24601123640001 40.4961769456)  \n",
       "4           POINT (-115.0405289 36.1956146)  "
      ]
     },
     "execution_count": 24,
     "metadata": {},
     "output_type": "execute_result"
    }
   ],
   "source": [
    "geo_Business_lat_long.head()"
   ]
  },
  {
   "cell_type": "code",
   "execution_count": 227,
   "metadata": {},
   "outputs": [
    {
     "data": {
      "image/png": "[encoded data removed]",
      "text/plain": [
       "<Figure size 864x504 with 1 Axes>"
      ]
     },
     "metadata": {},
     "output_type": "display_data"
    }
   ],
   "source": [
    "ax = world.loc[world['iso_a3'] == 'USA',:].plot(edgecolor='k', facecolor='white')\n",
    "geo_Business_lat_long.plot(ax = ax,cmap='Set1', column='cluster_pred',markersize =10)\n",
    "ax.set(xlim=(-130, -60), ylim=(20,60))\n",
    "plt.gcf().set_size_inches(12,7)\n",
    "plt.show()"
   ]
  },
  {
   "cell_type": "code",
   "execution_count": 26,
   "metadata": {},
   "outputs": [],
   "source": [
    "Business_centers = kmeans.cluster_centers_"
   ]
  },
  {
   "cell_type": "code",
   "execution_count": 27,
   "metadata": {},
   "outputs": [],
   "source": [
    "# Lets use this library to find distance between centers and the fartest point in a cluster\n",
    "import geopy.distance as geod"
   ]
  },
  {
   "cell_type": "code",
   "execution_count": 25,
   "metadata": {},
   "outputs": [
    {
     "name": "stderr",
     "output_type": "stream",
     "text": [
      "C:\\Users\\Sanchayni\\Anaconda3\\lib\\site-packages\\ipykernel_launcher.py:4: DeprecationWarning: Vincenty is deprecated and is going to be removed in geopy 2.0. Use `geopy.distance.geodesic` (or the default `geopy.distance.distance`) instead, which is more accurate and always converges.\n",
      "  after removing the cwd from sys.path.\n"
     ]
    },
    {
     "data": {
      "text/plain": [
       "279.35290160386563"
      ]
     },
     "execution_count": 25,
     "metadata": {},
     "output_type": "execute_result"
    }
   ],
   "source": [
    "coords_1 = (52.2296756, 21.0122287)\n",
    "coords_2 = (52.406374, 16.9251681)\n",
    "\n",
    "geod.VincentyDistance(coords_1,coords_2).km\n",
    "# This distance is in km"
   ]
  },
  {
   "cell_type": "code",
   "execution_count": 28,
   "metadata": {},
   "outputs": [
    {
     "name": "stderr",
     "output_type": "stream",
     "text": [
      "C:\\Users\\Sanchayni\\Anaconda3\\lib\\site-packages\\ipykernel_launcher.py:1: SettingWithCopyWarning: \n",
      "A value is trying to be set on a copy of a slice from a DataFrame.\n",
      "Try using .loc[row_indexer,col_indexer] = value instead\n",
      "\n",
      "See the caveats in the documentation: http://pandas.pydata.org/pandas-docs/stable/indexing.html#indexing-view-versus-copy\n",
      "  \"\"\"Entry point for launching an IPython kernel.\n",
      "C:\\Users\\Sanchayni\\Anaconda3\\lib\\site-packages\\ipykernel_launcher.py:2: SettingWithCopyWarning: \n",
      "A value is trying to be set on a copy of a slice from a DataFrame.\n",
      "Try using .loc[row_indexer,col_indexer] = value instead\n",
      "\n",
      "See the caveats in the documentation: http://pandas.pydata.org/pandas-docs/stable/indexing.html#indexing-view-versus-copy\n",
      "  \n"
     ]
    }
   ],
   "source": [
    "Business_lat_long['center_lon']  = [Business_centers[x][1] for x in Business_lat_long['cluster_pred']]\n",
    "Business_lat_long['center_lat']  = [Business_centers[x][0] for x in Business_lat_long['cluster_pred']]"
   ]
  },
  {
   "cell_type": "markdown",
   "metadata": {},
   "source": [
    "The format in which geod.VincentyDistance takes the coordinate is (Latitude, Longitude)"
   ]
  },
  {
   "cell_type": "code",
   "execution_count": 29,
   "metadata": {},
   "outputs": [
    {
     "name": "stderr",
     "output_type": "stream",
     "text": [
      "C:\\Users\\Sanchayni\\Anaconda3\\lib\\site-packages\\ipykernel_launcher.py:1: SettingWithCopyWarning: \n",
      "A value is trying to be set on a copy of a slice from a DataFrame.\n",
      "Try using .loc[row_indexer,col_indexer] = value instead\n",
      "\n",
      "See the caveats in the documentation: http://pandas.pydata.org/pandas-docs/stable/indexing.html#indexing-view-versus-copy\n",
      "  \"\"\"Entry point for launching an IPython kernel.\n"
     ]
    }
   ],
   "source": [
    "Business_lat_long['location_coordinates'] = list(zip(Business_lat_long.latitude , Business_lat_long.longitude ))\n",
    "#Business_lat_long['location_coordinates'] = Business_lat_long['location_coordinates'].apply(Point)"
   ]
  },
  {
   "cell_type": "code",
   "execution_count": 30,
   "metadata": {},
   "outputs": [
    {
     "name": "stderr",
     "output_type": "stream",
     "text": [
      "C:\\Users\\Sanchayni\\Anaconda3\\lib\\site-packages\\ipykernel_launcher.py:1: SettingWithCopyWarning: \n",
      "A value is trying to be set on a copy of a slice from a DataFrame.\n",
      "Try using .loc[row_indexer,col_indexer] = value instead\n",
      "\n",
      "See the caveats in the documentation: http://pandas.pydata.org/pandas-docs/stable/indexing.html#indexing-view-versus-copy\n",
      "  \"\"\"Entry point for launching an IPython kernel.\n"
     ]
    }
   ],
   "source": [
    "Business_lat_long['center_coordinates'] = list(zip(Business_lat_long.center_lat, Business_lat_long.center_lon  ))\n",
    "#Business_lat_long['center_coordinates'] = Business_lat_long['center_coordinates'].apply(Point)"
   ]
  },
  {
   "cell_type": "code",
   "execution_count": 31,
   "metadata": {},
   "outputs": [
    {
     "data": {
      "text/html": [
       "<div>\n",
       "<style scoped>\n",
       "    .dataframe tbody tr th:only-of-type {\n",
       "        vertical-align: middle;\n",
       "    }\n",
       "\n",
       "    .dataframe tbody tr th {\n",
       "        vertical-align: top;\n",
       "    }\n",
       "\n",
       "    .dataframe thead th {\n",
       "        text-align: right;\n",
       "    }\n",
       "</style>\n",
       "<table border=\"1\" class=\"dataframe\">\n",
       "  <thead>\n",
       "    <tr style=\"text-align: right;\">\n",
       "      <th></th>\n",
       "      <th>latitude</th>\n",
       "      <th>longitude</th>\n",
       "      <th>cluster_pred</th>\n",
       "      <th>location_coordinates</th>\n",
       "      <th>center_lon</th>\n",
       "      <th>center_lat</th>\n",
       "      <th>center_coordinates</th>\n",
       "    </tr>\n",
       "  </thead>\n",
       "  <tbody>\n",
       "    <tr>\n",
       "      <th>0</th>\n",
       "      <td>35.092564</td>\n",
       "      <td>-80.859132</td>\n",
       "      <td>17</td>\n",
       "      <td>(35.092564, -80.85913199999999)</td>\n",
       "      <td>-80.871511</td>\n",
       "      <td>35.091017</td>\n",
       "      <td>(35.09101679945728, -80.8715110236466)</td>\n",
       "    </tr>\n",
       "    <tr>\n",
       "      <th>1</th>\n",
       "      <td>33.495194</td>\n",
       "      <td>-112.028588</td>\n",
       "      <td>211</td>\n",
       "      <td>(33.4951941, -112.0285876)</td>\n",
       "      <td>-112.034766</td>\n",
       "      <td>33.492028</td>\n",
       "      <td>(33.492027553171525, -112.03476637361854)</td>\n",
       "    </tr>\n",
       "    <tr>\n",
       "      <th>2</th>\n",
       "      <td>41.708520</td>\n",
       "      <td>-81.359556</td>\n",
       "      <td>64</td>\n",
       "      <td>(41.70852, -81.35955600000001)</td>\n",
       "      <td>-81.345886</td>\n",
       "      <td>41.687250</td>\n",
       "      <td>(41.687249950819606, -81.34588604078235)</td>\n",
       "    </tr>\n",
       "    <tr>\n",
       "      <th>3</th>\n",
       "      <td>40.496177</td>\n",
       "      <td>-80.246011</td>\n",
       "      <td>148</td>\n",
       "      <td>(40.4961769456, -80.24601123640001)</td>\n",
       "      <td>-80.229682</td>\n",
       "      <td>40.507291</td>\n",
       "      <td>(40.50729060619385, -80.22968193970308)</td>\n",
       "    </tr>\n",
       "    <tr>\n",
       "      <th>4</th>\n",
       "      <td>36.195615</td>\n",
       "      <td>-115.040529</td>\n",
       "      <td>38</td>\n",
       "      <td>(36.1956146, -115.04052890000001)</td>\n",
       "      <td>-115.062930</td>\n",
       "      <td>36.166731</td>\n",
       "      <td>(36.166731240374496, -115.06292973070134)</td>\n",
       "    </tr>\n",
       "  </tbody>\n",
       "</table>\n",
       "</div>"
      ],
      "text/plain": [
       "    latitude   longitude  cluster_pred                 location_coordinates  \\\n",
       "0  35.092564  -80.859132            17      (35.092564, -80.85913199999999)   \n",
       "1  33.495194 -112.028588           211           (33.4951941, -112.0285876)   \n",
       "2  41.708520  -81.359556            64       (41.70852, -81.35955600000001)   \n",
       "3  40.496177  -80.246011           148  (40.4961769456, -80.24601123640001)   \n",
       "4  36.195615 -115.040529            38    (36.1956146, -115.04052890000001)   \n",
       "\n",
       "   center_lon  center_lat                         center_coordinates  \n",
       "0  -80.871511   35.091017     (35.09101679945728, -80.8715110236466)  \n",
       "1 -112.034766   33.492028  (33.492027553171525, -112.03476637361854)  \n",
       "2  -81.345886   41.687250   (41.687249950819606, -81.34588604078235)  \n",
       "3  -80.229682   40.507291    (40.50729060619385, -80.22968193970308)  \n",
       "4 -115.062930   36.166731  (36.166731240374496, -115.06292973070134)  "
      ]
     },
     "execution_count": 31,
     "metadata": {},
     "output_type": "execute_result"
    }
   ],
   "source": [
    "Business_lat_long.head()"
   ]
  },
  {
   "cell_type": "code",
   "execution_count": 32,
   "metadata": {},
   "outputs": [
    {
     "name": "stderr",
     "output_type": "stream",
     "text": [
      "C:\\Users\\Sanchayni\\Anaconda3\\lib\\site-packages\\ipykernel_launcher.py:1: DeprecationWarning: Vincenty is deprecated and is going to be removed in geopy 2.0. Use `geopy.distance.geodesic` (or the default `geopy.distance.distance`) instead, which is more accurate and always converges.\n",
      "  \"\"\"Entry point for launching an IPython kernel.\n",
      "C:\\Users\\Sanchayni\\Anaconda3\\lib\\site-packages\\ipykernel_launcher.py:1: SettingWithCopyWarning: \n",
      "A value is trying to be set on a copy of a slice from a DataFrame.\n",
      "Try using .loc[row_indexer,col_indexer] = value instead\n",
      "\n",
      "See the caveats in the documentation: http://pandas.pydata.org/pandas-docs/stable/indexing.html#indexing-view-versus-copy\n",
      "  \"\"\"Entry point for launching an IPython kernel.\n"
     ]
    }
   ],
   "source": [
    "Business_lat_long['Distfrmcenters_km'] = [geod.VincentyDistance(Business_lat_long.loc[x,'location_coordinates'],Business_lat_long.loc[x,'center_coordinates']).km for x in range(len(Business_lat_long))]"
   ]
  },
  {
   "cell_type": "code",
   "execution_count": 33,
   "metadata": {},
   "outputs": [
    {
     "name": "stderr",
     "output_type": "stream",
     "text": [
      "C:\\Users\\Sanchayni\\Anaconda3\\lib\\site-packages\\ipykernel_launcher.py:1: SettingWithCopyWarning: \n",
      "A value is trying to be set on a copy of a slice from a DataFrame.\n",
      "Try using .loc[row_indexer,col_indexer] = value instead\n",
      "\n",
      "See the caveats in the documentation: http://pandas.pydata.org/pandas-docs/stable/indexing.html#indexing-view-versus-copy\n",
      "  \"\"\"Entry point for launching an IPython kernel.\n"
     ]
    }
   ],
   "source": [
    "Business_lat_long['cluster_pred'] = Business_lat_long['cluster_pred'].astype('category')"
   ]
  },
  {
   "cell_type": "code",
   "execution_count": 34,
   "metadata": {},
   "outputs": [
    {
     "name": "stderr",
     "output_type": "stream",
     "text": [
      "C:\\Users\\Sanchayni\\Anaconda3\\lib\\site-packages\\ipykernel_launcher.py:1: FutureWarning: using a dict on a Series for aggregation\n",
      "is deprecated and will be removed in a future version\n",
      "  \"\"\"Entry point for launching an IPython kernel.\n"
     ]
    }
   ],
   "source": [
    "max_cluster_dist = pd.DataFrame(Business_lat_long.groupby('cluster_pred')['Distfrmcenters_km'].agg({'max_dist':'max'}))"
   ]
  },
  {
   "cell_type": "code",
   "execution_count": 35,
   "metadata": {},
   "outputs": [
    {
     "data": {
      "text/html": [
       "<div>\n",
       "<style scoped>\n",
       "    .dataframe tbody tr th:only-of-type {\n",
       "        vertical-align: middle;\n",
       "    }\n",
       "\n",
       "    .dataframe tbody tr th {\n",
       "        vertical-align: top;\n",
       "    }\n",
       "\n",
       "    .dataframe thead th {\n",
       "        text-align: right;\n",
       "    }\n",
       "</style>\n",
       "<table border=\"1\" class=\"dataframe\">\n",
       "  <thead>\n",
       "    <tr style=\"text-align: right;\">\n",
       "      <th></th>\n",
       "      <th>max_dist</th>\n",
       "    </tr>\n",
       "    <tr>\n",
       "      <th>cluster_pred</th>\n",
       "      <th></th>\n",
       "    </tr>\n",
       "  </thead>\n",
       "  <tbody>\n",
       "    <tr>\n",
       "      <th>0</th>\n",
       "      <td>6.571258</td>\n",
       "    </tr>\n",
       "    <tr>\n",
       "      <th>1</th>\n",
       "      <td>3.797746</td>\n",
       "    </tr>\n",
       "    <tr>\n",
       "      <th>2</th>\n",
       "      <td>2.996571</td>\n",
       "    </tr>\n",
       "    <tr>\n",
       "      <th>3</th>\n",
       "      <td>2.744396</td>\n",
       "    </tr>\n",
       "    <tr>\n",
       "      <th>4</th>\n",
       "      <td>4.026485</td>\n",
       "    </tr>\n",
       "  </tbody>\n",
       "</table>\n",
       "</div>"
      ],
      "text/plain": [
       "              max_dist\n",
       "cluster_pred          \n",
       "0             6.571258\n",
       "1             3.797746\n",
       "2             2.996571\n",
       "3             2.744396\n",
       "4             4.026485"
      ]
     },
     "execution_count": 35,
     "metadata": {},
     "output_type": "execute_result"
    }
   ],
   "source": [
    "max_cluster_dist.head()"
   ]
  },
  {
   "cell_type": "code",
   "execution_count": 37,
   "metadata": {},
   "outputs": [
    {
     "data": {
      "image/png": "[encoded data removed]",
      "text/plain": [
       "<Figure size 432x288 with 1 Axes>"
      ]
     },
     "metadata": {},
     "output_type": "display_data"
    }
   ],
   "source": [
    "bins = 50\n",
    "plt.hist(max_cluster_dist['max_dist'], bins, alpha=0.5, label='Max_distance', color= 'green')\n",
    "plt.legend(loc='upper right')\n",
    "plt.show()"
   ]
  },
  {
   "cell_type": "code",
   "execution_count": null,
   "metadata": {},
   "outputs": [],
   "source": []
  },
  {
   "cell_type": "markdown",
   "metadata": {},
   "source": [
    "### Lets go till radius of 3KM as (35,10)KM gave us a lot of repeated restaurants"
   ]
  },
  {
   "cell_type": "markdown",
   "metadata": {},
   "source": [
    "radius parameter in places_nearby API is in meters (2000 meters) <br>\n",
    "location is requires 'latitude,longitude' format"
   ]
  },
  {
   "cell_type": "markdown",
   "metadata": {},
   "source": [
    "After reading the Google API documentation carefully, I realized that we cannot go beyond 50000m, but as our data showcase we might not need to go beyond that. <br>\n",
    "Also with each query request. We get only 60 search result"
   ]
  },
  {
   "cell_type": "markdown",
   "metadata": {},
   "source": [
    "## DO NOT RUN AGAIN"
   ]
  },
  {
   "cell_type": "code",
   "execution_count": 38,
   "metadata": {},
   "outputs": [],
   "source": [
    "restaurants_placesAPI = {}\n",
    "for i in range(no_of_clusters):\n",
    "    name = 'rest_for_cluster'+str(i+1)\n",
    "    restaurants_placesAPI[name] = gmaps.places_nearby(location=str(Business_centers[i][0]) + ',' + str(Business_centers[i][1]),\n",
    "                                                      radius=3000,\n",
    "                                                      type = 'restaurant')  "
   ]
  },
  {
   "cell_type": "code",
   "execution_count": null,
   "metadata": {},
   "outputs": [],
   "source": []
  },
  {
   "cell_type": "code",
   "execution_count": null,
   "metadata": {},
   "outputs": [],
   "source": []
  },
  {
   "cell_type": "code",
   "execution_count": 39,
   "metadata": {},
   "outputs": [],
   "source": [
    "Restaurants_nearby_all = pd.DataFrame(restaurants_placesAPI['rest_for_cluster1']['results'])\n",
    "for i in range(1,no_of_clusters):\n",
    "    name = 'rest_for_cluster'+str(i+1)\n",
    "    Restaurants_nearby_all = pd.concat([Restaurants_nearby_all,pd.DataFrame(restaurants_placesAPI[name]['results'])])"
   ]
  },
  {
   "cell_type": "code",
   "execution_count": 42,
   "metadata": {},
   "outputs": [
    {
     "data": {
      "text/plain": [
       "497.7"
      ]
     },
     "execution_count": 42,
     "metadata": {},
     "output_type": "execute_result"
    }
   ],
   "source": [
    "len(Restaurants_nearby_all)/20"
   ]
  },
  {
   "cell_type": "code",
   "execution_count": null,
   "metadata": {},
   "outputs": [],
   "source": []
  },
  {
   "cell_type": "code",
   "execution_count": null,
   "metadata": {},
   "outputs": [],
   "source": []
  },
  {
   "cell_type": "markdown",
   "metadata": {},
   "source": [
    "### 2nd batch of values (next token)"
   ]
  },
  {
   "cell_type": "markdown",
   "metadata": {},
   "source": [
    "## DO NOT RUN AGAIN"
   ]
  },
  {
   "cell_type": "code",
   "execution_count": 43,
   "metadata": {},
   "outputs": [
    {
     "name": "stdout",
     "output_type": "stream",
     "text": [
      "'next_page_token'\n",
      "'next_page_token'\n",
      "'next_page_token'\n",
      "'next_page_token'\n",
      "'next_page_token'\n",
      "'next_page_token'\n",
      "'next_page_token'\n",
      "'next_page_token'\n",
      "'next_page_token'\n",
      "'next_page_token'\n",
      "'next_page_token'\n",
      "'next_page_token'\n",
      "'next_page_token'\n",
      "'next_page_token'\n",
      "'next_page_token'\n",
      "'next_page_token'\n",
      "'next_page_token'\n",
      "'next_page_token'\n",
      "'next_page_token'\n",
      "'next_page_token'\n",
      "'next_page_token'\n",
      "'next_page_token'\n",
      "'next_page_token'\n",
      "'next_page_token'\n",
      "'next_page_token'\n",
      "'next_page_token'\n",
      "'next_page_token'\n",
      "'next_page_token'\n",
      "'next_page_token'\n"
     ]
    }
   ],
   "source": [
    "restaurants_placesAPI_token2 = {}\n",
    "for i in range(no_of_clusters):\n",
    "    name = 'rest_for_cluster'+str(i+1)\n",
    "    try:\n",
    "        restaurants_placesAPI[name]['next_page_token']\n",
    "        restaurants_placesAPI_token2[name] = gmaps.places_nearby(page_token = restaurants_placesAPI[name]['next_page_token'],\n",
    "                                                      type = 'restaurant')\n",
    "    except KeyError as e:\n",
    "        print(e)\n",
    "\n",
    "    "
   ]
  },
  {
   "cell_type": "code",
   "execution_count": null,
   "metadata": {},
   "outputs": [],
   "source": []
  },
  {
   "cell_type": "code",
   "execution_count": null,
   "metadata": {},
   "outputs": [],
   "source": []
  },
  {
   "cell_type": "code",
   "execution_count": 44,
   "metadata": {},
   "outputs": [],
   "source": [
    "for i in restaurants_placesAPI_token2.keys():\n",
    "    Restaurants_nearby_all = pd.concat([Restaurants_nearby_all,pd.DataFrame(restaurants_placesAPI_token2[i]['results'])])"
   ]
  },
  {
   "cell_type": "code",
   "execution_count": 45,
   "metadata": {},
   "outputs": [
    {
     "data": {
      "text/plain": [
       "538.2"
      ]
     },
     "execution_count": 45,
     "metadata": {},
     "output_type": "execute_result"
    }
   ],
   "source": [
    "len(Restaurants_nearby_all)/20"
   ]
  },
  {
   "cell_type": "code",
   "execution_count": 46,
   "metadata": {},
   "outputs": [
    {
     "data": {
      "text/plain": [
       "'CtQDwQEAAHj99wu4xaAeHmLQWgzgsof9iyitoD_FuVegV42Uya-BgQzxMAPZemY-mmuTRgft6clrh4i9Gg-ss8NVWFlY6Lm0snoYtPfzhsDjI5UIAH6j3GQpefBby8E70rG7ba_UaSxPSFKu1-1UWu2JUCbTS97ab2ihRPx5MmFjhOzqKr_lpIc3fwotJr9KjNgDYSSmos961aRRGdofjT0GyyqoSBspreOt0P-Y2F8Pf-TQ5SkOvwgrXf3t7TAPf7ZlJSU4mHhnLE5Rw93DeHK424pkgEWWqWoDG2NJAW1MX9yKbXXbgnMQOAY8b6ZZIXEZ_PGvVqukUA1XWlc9UL-myj-his5TobYLYaYVND3gqGiaokQT9wTC5EdDjtsKboKOKl6jCXLPovXH_MjoXVJy1j0MVji52s5tWsN0PX2g4cVgrO17r3g4bsIzIKIbZOTnZAQb9jUwUbUN5ESwdLO_WvKOSx9XJRRx7d7T3yByxjIIXSkXZ5JiZxohap_UB5Vxk_5D62wCklZpAfVxykGTdqmkQf5EVFfMNpAsBNQLR1hfIiscrbjH8h5AFuyIhOyzAdq3ouutqV0R0npI8JgpZYFclqfqrYVNBX8fABd4Tb8aWALXEhB0vBOHI4HG4ImyocjITF9hGhT0_oU04TBG7r-4j5Gzwla4NSRGAA'"
      ]
     },
     "execution_count": 46,
     "metadata": {},
     "output_type": "execute_result"
    }
   ],
   "source": [
    "restaurants_placesAPI_token2['rest_for_cluster1']['next_page_token']"
   ]
  },
  {
   "cell_type": "code",
   "execution_count": null,
   "metadata": {},
   "outputs": [],
   "source": []
  },
  {
   "cell_type": "markdown",
   "metadata": {},
   "source": [
    "### 3rd batch of values (next token)"
   ]
  },
  {
   "cell_type": "markdown",
   "metadata": {},
   "source": [
    "## DO NOT RUN AGAIN"
   ]
  },
  {
   "cell_type": "code",
   "execution_count": 48,
   "metadata": {},
   "outputs": [
    {
     "name": "stdout",
     "output_type": "stream",
     "text": [
      "'next_page_token'\n",
      "'next_page_token'\n",
      "'next_page_token'\n",
      "'next_page_token'\n",
      "'next_page_token'\n",
      "'next_page_token'\n",
      "'next_page_token'\n",
      "'next_page_token'\n",
      "'next_page_token'\n",
      "'next_page_token'\n",
      "'next_page_token'\n",
      "'next_page_token'\n",
      "'next_page_token'\n",
      "'next_page_token'\n",
      "'next_page_token'\n",
      "'next_page_token'\n",
      "'next_page_token'\n",
      "'next_page_token'\n",
      "'next_page_token'\n",
      "'next_page_token'\n",
      "'next_page_token'\n",
      "'next_page_token'\n",
      "'next_page_token'\n",
      "'next_page_token'\n",
      "'next_page_token'\n",
      "'next_page_token'\n",
      "'next_page_token'\n",
      "'next_page_token'\n",
      "'next_page_token'\n",
      "'next_page_token'\n",
      "'next_page_token'\n",
      "'next_page_token'\n",
      "'next_page_token'\n",
      "'next_page_token'\n",
      "'next_page_token'\n",
      "'next_page_token'\n",
      "'next_page_token'\n",
      "'next_page_token'\n",
      "'next_page_token'\n",
      "'next_page_token'\n",
      "'next_page_token'\n",
      "'next_page_token'\n"
     ]
    }
   ],
   "source": [
    "restaurants_placesAPI_token3 = {}\n",
    "for i in restaurants_placesAPI_token2.keys():\n",
    "    try:\n",
    "        restaurants_placesAPI[i]['next_page_token']\n",
    "        restaurants_placesAPI_token3[name] = gmaps.places_nearby(page_token = restaurants_placesAPI_token2[i]['next_page_token'],\n",
    "                                                      type = 'restaurant')\n",
    "    except KeyError as e:\n",
    "        print(e)"
   ]
  },
  {
   "cell_type": "code",
   "execution_count": null,
   "metadata": {},
   "outputs": [],
   "source": []
  },
  {
   "cell_type": "code",
   "execution_count": null,
   "metadata": {},
   "outputs": [],
   "source": []
  },
  {
   "cell_type": "code",
   "execution_count": 49,
   "metadata": {},
   "outputs": [],
   "source": [
    "for i in restaurants_placesAPI_token3.keys():\n",
    "    Restaurants_nearby_all = pd.concat([Restaurants_nearby_all,pd.DataFrame(restaurants_placesAPI_token3[i]['results'])])"
   ]
  },
  {
   "cell_type": "code",
   "execution_count": null,
   "metadata": {},
   "outputs": [],
   "source": []
  },
  {
   "cell_type": "code",
   "execution_count": 50,
   "metadata": {},
   "outputs": [
    {
     "data": {
      "text/plain": [
       "10784"
      ]
     },
     "execution_count": 50,
     "metadata": {},
     "output_type": "execute_result"
    }
   ],
   "source": [
    "len(Restaurants_nearby_all)"
   ]
  },
  {
   "cell_type": "code",
   "execution_count": 51,
   "metadata": {},
   "outputs": [
    {
     "data": {
      "text/html": [
       "<div>\n",
       "<style scoped>\n",
       "    .dataframe tbody tr th:only-of-type {\n",
       "        vertical-align: middle;\n",
       "    }\n",
       "\n",
       "    .dataframe tbody tr th {\n",
       "        vertical-align: top;\n",
       "    }\n",
       "\n",
       "    .dataframe thead th {\n",
       "        text-align: right;\n",
       "    }\n",
       "</style>\n",
       "<table border=\"1\" class=\"dataframe\">\n",
       "  <thead>\n",
       "    <tr style=\"text-align: right;\">\n",
       "      <th></th>\n",
       "      <th>geometry</th>\n",
       "      <th>icon</th>\n",
       "      <th>id</th>\n",
       "      <th>name</th>\n",
       "      <th>opening_hours</th>\n",
       "      <th>permanently_closed</th>\n",
       "      <th>photos</th>\n",
       "      <th>place_id</th>\n",
       "      <th>plus_code</th>\n",
       "      <th>price_level</th>\n",
       "      <th>rating</th>\n",
       "      <th>reference</th>\n",
       "      <th>scope</th>\n",
       "      <th>types</th>\n",
       "      <th>user_ratings_total</th>\n",
       "      <th>vicinity</th>\n",
       "    </tr>\n",
       "  </thead>\n",
       "  <tbody>\n",
       "    <tr>\n",
       "      <th>0</th>\n",
       "      <td>{'location': {'lat': 41.44309079999999, 'lng':...</td>\n",
       "      <td>https://maps.gstatic.com/mapfiles/place_api/ic...</td>\n",
       "      <td>0e69ab76c5ef42e208f9085d91d39af9f7ff8d82</td>\n",
       "      <td>Little Caesars Pizza</td>\n",
       "      <td>{'open_now': True}</td>\n",
       "      <td>NaN</td>\n",
       "      <td>[{'height': 1000, 'html_attributions': ['&lt;a hr...</td>\n",
       "      <td>ChIJIXB2Fk6cMIgRsF8GheN2ylI</td>\n",
       "      <td>{'compound_code': 'CRVM+6W Lorain, Sheffield T...</td>\n",
       "      <td>1.0</td>\n",
       "      <td>3.9</td>\n",
       "      <td>ChIJIXB2Fk6cMIgRsF8GheN2ylI</td>\n",
       "      <td>GOOGLE</td>\n",
       "      <td>[meal_takeaway, restaurant, point_of_interest,...</td>\n",
       "      <td>441.0</td>\n",
       "      <td>3004 Broadway Avenue, Lorain</td>\n",
       "    </tr>\n",
       "    <tr>\n",
       "      <th>1</th>\n",
       "      <td>{'location': {'lat': 41.4400033, 'lng': -82.18...</td>\n",
       "      <td>https://maps.gstatic.com/mapfiles/place_api/ic...</td>\n",
       "      <td>ddcd7fa11d479172a88cdc6eb16ced6ef77de415</td>\n",
       "      <td>Subway</td>\n",
       "      <td>{'open_now': True}</td>\n",
       "      <td>NaN</td>\n",
       "      <td>[{'height': 4000, 'html_attributions': ['&lt;a hr...</td>\n",
       "      <td>ChIJAXINZbmdMIgRfgXSQLC7ws0</td>\n",
       "      <td>{'compound_code': 'CRR7+2M Lorain, Sheffield T...</td>\n",
       "      <td>1.0</td>\n",
       "      <td>4.2</td>\n",
       "      <td>ChIJAXINZbmdMIgRfgXSQLC7ws0</td>\n",
       "      <td>GOOGLE</td>\n",
       "      <td>[restaurant, point_of_interest, food, establis...</td>\n",
       "      <td>62.0</td>\n",
       "      <td>3360 Oberlin Avenue, Lorain</td>\n",
       "    </tr>\n",
       "    <tr>\n",
       "      <th>2</th>\n",
       "      <td>{'location': {'lat': 41.473052, 'lng': -82.174...</td>\n",
       "      <td>https://maps.gstatic.com/mapfiles/place_api/ic...</td>\n",
       "      <td>fe63bd5df11bd2d3eae1b0376c10a99a24a5ab43</td>\n",
       "      <td>Jackalope Lakeside</td>\n",
       "      <td>{'open_now': True}</td>\n",
       "      <td>NaN</td>\n",
       "      <td>[{'height': 2322, 'html_attributions': ['&lt;a hr...</td>\n",
       "      <td>ChIJjcOMvB-dMIgRwVRa4qyvGKo</td>\n",
       "      <td>{'compound_code': 'FRFG+68 Lorain, Sheffield T...</td>\n",
       "      <td>2.0</td>\n",
       "      <td>3.9</td>\n",
       "      <td>ChIJjcOMvB-dMIgRwVRa4qyvGKo</td>\n",
       "      <td>GOOGLE</td>\n",
       "      <td>[restaurant, point_of_interest, food, establis...</td>\n",
       "      <td>467.0</td>\n",
       "      <td>301 Lakeside Avenue, Lorain</td>\n",
       "    </tr>\n",
       "    <tr>\n",
       "      <th>3</th>\n",
       "      <td>{'location': {'lat': 41.4714414, 'lng': -82.17...</td>\n",
       "      <td>https://maps.gstatic.com/mapfiles/place_api/ic...</td>\n",
       "      <td>dde218964528201c9610e72a995a130061086628</td>\n",
       "      <td>Subway</td>\n",
       "      <td>{'open_now': True}</td>\n",
       "      <td>NaN</td>\n",
       "      <td>[{'height': 2268, 'html_attributions': ['&lt;a hr...</td>\n",
       "      <td>ChIJe7AJOB6dMIgRPA7-TkR26FM</td>\n",
       "      <td>{'compound_code': 'FRCG+HV Lorain, Sheffield T...</td>\n",
       "      <td>1.0</td>\n",
       "      <td>4.1</td>\n",
       "      <td>ChIJe7AJOB6dMIgRPA7-TkR26FM</td>\n",
       "      <td>GOOGLE</td>\n",
       "      <td>[restaurant, point_of_interest, food, establis...</td>\n",
       "      <td>86.0</td>\n",
       "      <td>301 East Erie Avenue, Lorain</td>\n",
       "    </tr>\n",
       "    <tr>\n",
       "      <th>4</th>\n",
       "      <td>{'location': {'lat': 41.4629508, 'lng': -82.17...</td>\n",
       "      <td>https://maps.gstatic.com/mapfiles/place_api/ic...</td>\n",
       "      <td>231f6b3e930705781173dee815951403f29bb0ba</td>\n",
       "      <td>Scorcher's Casual Eatery &amp; Draft House</td>\n",
       "      <td>{'open_now': True}</td>\n",
       "      <td>NaN</td>\n",
       "      <td>[{'height': 2988, 'html_attributions': ['&lt;a hr...</td>\n",
       "      <td>ChIJ41J07AKdMIgR7qeRTjC3oGI</td>\n",
       "      <td>{'compound_code': 'FR7G+5Q Lorain, Sheffield T...</td>\n",
       "      <td>NaN</td>\n",
       "      <td>4.0</td>\n",
       "      <td>ChIJ41J07AKdMIgR7qeRTjC3oGI</td>\n",
       "      <td>GOOGLE</td>\n",
       "      <td>[bar, restaurant, point_of_interest, food, est...</td>\n",
       "      <td>242.0</td>\n",
       "      <td>900 Broadway Avenue, Lorain</td>\n",
       "    </tr>\n",
       "  </tbody>\n",
       "</table>\n",
       "</div>"
      ],
      "text/plain": [
       "                                            geometry  \\\n",
       "0  {'location': {'lat': 41.44309079999999, 'lng':...   \n",
       "1  {'location': {'lat': 41.4400033, 'lng': -82.18...   \n",
       "2  {'location': {'lat': 41.473052, 'lng': -82.174...   \n",
       "3  {'location': {'lat': 41.4714414, 'lng': -82.17...   \n",
       "4  {'location': {'lat': 41.4629508, 'lng': -82.17...   \n",
       "\n",
       "                                                icon  \\\n",
       "0  https://maps.gstatic.com/mapfiles/place_api/ic...   \n",
       "1  https://maps.gstatic.com/mapfiles/place_api/ic...   \n",
       "2  https://maps.gstatic.com/mapfiles/place_api/ic...   \n",
       "3  https://maps.gstatic.com/mapfiles/place_api/ic...   \n",
       "4  https://maps.gstatic.com/mapfiles/place_api/ic...   \n",
       "\n",
       "                                         id  \\\n",
       "0  0e69ab76c5ef42e208f9085d91d39af9f7ff8d82   \n",
       "1  ddcd7fa11d479172a88cdc6eb16ced6ef77de415   \n",
       "2  fe63bd5df11bd2d3eae1b0376c10a99a24a5ab43   \n",
       "3  dde218964528201c9610e72a995a130061086628   \n",
       "4  231f6b3e930705781173dee815951403f29bb0ba   \n",
       "\n",
       "                                     name       opening_hours  \\\n",
       "0                    Little Caesars Pizza  {'open_now': True}   \n",
       "1                                  Subway  {'open_now': True}   \n",
       "2                      Jackalope Lakeside  {'open_now': True}   \n",
       "3                                  Subway  {'open_now': True}   \n",
       "4  Scorcher's Casual Eatery & Draft House  {'open_now': True}   \n",
       "\n",
       "  permanently_closed                                             photos  \\\n",
       "0                NaN  [{'height': 1000, 'html_attributions': ['<a hr...   \n",
       "1                NaN  [{'height': 4000, 'html_attributions': ['<a hr...   \n",
       "2                NaN  [{'height': 2322, 'html_attributions': ['<a hr...   \n",
       "3                NaN  [{'height': 2268, 'html_attributions': ['<a hr...   \n",
       "4                NaN  [{'height': 2988, 'html_attributions': ['<a hr...   \n",
       "\n",
       "                      place_id  \\\n",
       "0  ChIJIXB2Fk6cMIgRsF8GheN2ylI   \n",
       "1  ChIJAXINZbmdMIgRfgXSQLC7ws0   \n",
       "2  ChIJjcOMvB-dMIgRwVRa4qyvGKo   \n",
       "3  ChIJe7AJOB6dMIgRPA7-TkR26FM   \n",
       "4  ChIJ41J07AKdMIgR7qeRTjC3oGI   \n",
       "\n",
       "                                           plus_code  price_level  rating  \\\n",
       "0  {'compound_code': 'CRVM+6W Lorain, Sheffield T...          1.0     3.9   \n",
       "1  {'compound_code': 'CRR7+2M Lorain, Sheffield T...          1.0     4.2   \n",
       "2  {'compound_code': 'FRFG+68 Lorain, Sheffield T...          2.0     3.9   \n",
       "3  {'compound_code': 'FRCG+HV Lorain, Sheffield T...          1.0     4.1   \n",
       "4  {'compound_code': 'FR7G+5Q Lorain, Sheffield T...          NaN     4.0   \n",
       "\n",
       "                     reference   scope  \\\n",
       "0  ChIJIXB2Fk6cMIgRsF8GheN2ylI  GOOGLE   \n",
       "1  ChIJAXINZbmdMIgRfgXSQLC7ws0  GOOGLE   \n",
       "2  ChIJjcOMvB-dMIgRwVRa4qyvGKo  GOOGLE   \n",
       "3  ChIJe7AJOB6dMIgRPA7-TkR26FM  GOOGLE   \n",
       "4  ChIJ41J07AKdMIgR7qeRTjC3oGI  GOOGLE   \n",
       "\n",
       "                                               types  user_ratings_total  \\\n",
       "0  [meal_takeaway, restaurant, point_of_interest,...               441.0   \n",
       "1  [restaurant, point_of_interest, food, establis...                62.0   \n",
       "2  [restaurant, point_of_interest, food, establis...               467.0   \n",
       "3  [restaurant, point_of_interest, food, establis...                86.0   \n",
       "4  [bar, restaurant, point_of_interest, food, est...               242.0   \n",
       "\n",
       "                       vicinity  \n",
       "0  3004 Broadway Avenue, Lorain  \n",
       "1   3360 Oberlin Avenue, Lorain  \n",
       "2   301 Lakeside Avenue, Lorain  \n",
       "3  301 East Erie Avenue, Lorain  \n",
       "4   900 Broadway Avenue, Lorain  "
      ]
     },
     "execution_count": 51,
     "metadata": {},
     "output_type": "execute_result"
    }
   ],
   "source": [
    "Restaurants_nearby_all.head()"
   ]
  },
  {
   "cell_type": "code",
   "execution_count": 304,
   "metadata": {},
   "outputs": [],
   "source": [
    "#Restaurants_nearby_all.to_csv('Restaurants_nearby_all_8055.csv', sep=',')"
   ]
  },
  {
   "cell_type": "code",
   "execution_count": 57,
   "metadata": {},
   "outputs": [
    {
     "data": {
      "text/plain": [
       "(9954, 9954)"
      ]
     },
     "execution_count": 57,
     "metadata": {},
     "output_type": "execute_result"
    }
   ],
   "source": [
    "len(Restaurants_nearby_all['place_id'].unique()), len(Restaurants_nearby_all)"
   ]
  },
  {
   "cell_type": "code",
   "execution_count": 55,
   "metadata": {},
   "outputs": [],
   "source": [
    "Restaurants_nearby_all = Restaurants_nearby_all.drop_duplicates(subset = 'place_id')"
   ]
  },
  {
   "cell_type": "code",
   "execution_count": 58,
   "metadata": {},
   "outputs": [],
   "source": [
    "Restaurants_nearby_all.to_csv('Restaurants_nearby_all_9954.csv', sep=',')"
   ]
  },
  {
   "cell_type": "code",
   "execution_count": null,
   "metadata": {},
   "outputs": [],
   "source": []
  },
  {
   "cell_type": "code",
   "execution_count": null,
   "metadata": {},
   "outputs": [],
   "source": []
  },
  {
   "cell_type": "code",
   "execution_count": null,
   "metadata": {},
   "outputs": [],
   "source": []
  },
  {
   "cell_type": "markdown",
   "metadata": {},
   "source": [
    "Checking how much overlap exists between restaurants extracted by places api vs yelp data"
   ]
  },
  {
   "cell_type": "code",
   "execution_count": 4,
   "metadata": {},
   "outputs": [],
   "source": [
    "Restaurants_nearby_all = pd.read_csv('Restaurants_nearby_all_9954.csv')"
   ]
  },
  {
   "cell_type": "code",
   "execution_count": 5,
   "metadata": {},
   "outputs": [],
   "source": [
    "business_data_cleaned = pd.DataFrame(pd.read_csv('C:\\\\Users\\\\Sanchayni\\\\Desktop\\\\Spring19\\\\DPA\\\\Project\\\\yelp_dataset\\\\business.csv'))"
   ]
  },
  {
   "cell_type": "code",
   "execution_count": 31,
   "metadata": {},
   "outputs": [
    {
     "data": {
      "text/html": [
       "<div>\n",
       "<style scoped>\n",
       "    .dataframe tbody tr th:only-of-type {\n",
       "        vertical-align: middle;\n",
       "    }\n",
       "\n",
       "    .dataframe tbody tr th {\n",
       "        vertical-align: top;\n",
       "    }\n",
       "\n",
       "    .dataframe thead th {\n",
       "        text-align: right;\n",
       "    }\n",
       "</style>\n",
       "<table border=\"1\" class=\"dataframe\">\n",
       "  <thead>\n",
       "    <tr style=\"text-align: right;\">\n",
       "      <th></th>\n",
       "      <th>business_id</th>\n",
       "      <th>name</th>\n",
       "      <th>address</th>\n",
       "      <th>city</th>\n",
       "      <th>state</th>\n",
       "      <th>postal_code</th>\n",
       "      <th>latitude</th>\n",
       "      <th>longitude</th>\n",
       "      <th>stars</th>\n",
       "      <th>review_count</th>\n",
       "      <th>...</th>\n",
       "      <th>slovakian</th>\n",
       "      <th>australian</th>\n",
       "      <th>pub food</th>\n",
       "      <th>south african</th>\n",
       "      <th>soba</th>\n",
       "      <th>calabrian</th>\n",
       "      <th>pita</th>\n",
       "      <th>hong kong style cafe</th>\n",
       "      <th>churros</th>\n",
       "      <th>iberian</th>\n",
       "    </tr>\n",
       "  </thead>\n",
       "  <tbody>\n",
       "    <tr>\n",
       "      <th>0</th>\n",
       "      <td>gnKjwL_1w79qoiV3IC_xQQ</td>\n",
       "      <td>musashi japanese restaurant</td>\n",
       "      <td>10110 Johnston Rd, Ste 15</td>\n",
       "      <td>charlotte</td>\n",
       "      <td>NC</td>\n",
       "      <td>28210.0</td>\n",
       "      <td>35.092564</td>\n",
       "      <td>-80.859132</td>\n",
       "      <td>4.0</td>\n",
       "      <td>170</td>\n",
       "      <td>...</td>\n",
       "      <td>0</td>\n",
       "      <td>0</td>\n",
       "      <td>0</td>\n",
       "      <td>0</td>\n",
       "      <td>0</td>\n",
       "      <td>0</td>\n",
       "      <td>0</td>\n",
       "      <td>0</td>\n",
       "      <td>0</td>\n",
       "      <td>0</td>\n",
       "    </tr>\n",
       "    <tr>\n",
       "      <th>1</th>\n",
       "      <td>1Dfx3zM-rW4n-31KeC8sJg</td>\n",
       "      <td>taco bell</td>\n",
       "      <td>2450 E Indian School Rd</td>\n",
       "      <td>phoenix</td>\n",
       "      <td>AZ</td>\n",
       "      <td>85016.0</td>\n",
       "      <td>33.495194</td>\n",
       "      <td>-112.028588</td>\n",
       "      <td>3.0</td>\n",
       "      <td>18</td>\n",
       "      <td>...</td>\n",
       "      <td>0</td>\n",
       "      <td>0</td>\n",
       "      <td>0</td>\n",
       "      <td>0</td>\n",
       "      <td>0</td>\n",
       "      <td>0</td>\n",
       "      <td>0</td>\n",
       "      <td>0</td>\n",
       "      <td>0</td>\n",
       "      <td>0</td>\n",
       "    </tr>\n",
       "    <tr>\n",
       "      <th>2</th>\n",
       "      <td>fweCYi8FmbJXHCqLnwuk8w</td>\n",
       "      <td>marco's pizza</td>\n",
       "      <td>5981 Andrews Rd</td>\n",
       "      <td>mentor on the lake</td>\n",
       "      <td>OH</td>\n",
       "      <td>44060.0</td>\n",
       "      <td>41.708520</td>\n",
       "      <td>-81.359556</td>\n",
       "      <td>4.0</td>\n",
       "      <td>16</td>\n",
       "      <td>...</td>\n",
       "      <td>0</td>\n",
       "      <td>0</td>\n",
       "      <td>0</td>\n",
       "      <td>0</td>\n",
       "      <td>0</td>\n",
       "      <td>0</td>\n",
       "      <td>0</td>\n",
       "      <td>0</td>\n",
       "      <td>0</td>\n",
       "      <td>0</td>\n",
       "    </tr>\n",
       "    <tr>\n",
       "      <th>3</th>\n",
       "      <td>1RHY4K3BD22FK7Cfftn8Mg</td>\n",
       "      <td>marathon diner</td>\n",
       "      <td>Center Core - Food Court, Fl 3, Pittsburgh Int...</td>\n",
       "      <td>pittsburgh</td>\n",
       "      <td>PA</td>\n",
       "      <td>15231.0</td>\n",
       "      <td>40.496177</td>\n",
       "      <td>-80.246011</td>\n",
       "      <td>4.0</td>\n",
       "      <td>35</td>\n",
       "      <td>...</td>\n",
       "      <td>0</td>\n",
       "      <td>0</td>\n",
       "      <td>0</td>\n",
       "      <td>0</td>\n",
       "      <td>0</td>\n",
       "      <td>0</td>\n",
       "      <td>0</td>\n",
       "      <td>0</td>\n",
       "      <td>0</td>\n",
       "      <td>0</td>\n",
       "    </tr>\n",
       "    <tr>\n",
       "      <th>4</th>\n",
       "      <td>tstimHoMcYbkSC4eBA1wEg</td>\n",
       "      <td>maria's mexican restaurant &amp; bakery</td>\n",
       "      <td>6055 E Lake Mead Blvd</td>\n",
       "      <td>las vegas</td>\n",
       "      <td>NV</td>\n",
       "      <td>89156.0</td>\n",
       "      <td>36.195615</td>\n",
       "      <td>-115.040529</td>\n",
       "      <td>4.5</td>\n",
       "      <td>184</td>\n",
       "      <td>...</td>\n",
       "      <td>0</td>\n",
       "      <td>0</td>\n",
       "      <td>0</td>\n",
       "      <td>0</td>\n",
       "      <td>0</td>\n",
       "      <td>0</td>\n",
       "      <td>0</td>\n",
       "      <td>0</td>\n",
       "      <td>0</td>\n",
       "      <td>0</td>\n",
       "    </tr>\n",
       "  </tbody>\n",
       "</table>\n",
       "<p>5 rows × 246 columns</p>\n",
       "</div>"
      ],
      "text/plain": [
       "              business_id                                 name  \\\n",
       "0  gnKjwL_1w79qoiV3IC_xQQ          musashi japanese restaurant   \n",
       "1  1Dfx3zM-rW4n-31KeC8sJg                            taco bell   \n",
       "2  fweCYi8FmbJXHCqLnwuk8w                        marco's pizza   \n",
       "3  1RHY4K3BD22FK7Cfftn8Mg                       marathon diner   \n",
       "4  tstimHoMcYbkSC4eBA1wEg  maria's mexican restaurant & bakery   \n",
       "\n",
       "                                             address                city  \\\n",
       "0                          10110 Johnston Rd, Ste 15           charlotte   \n",
       "1                            2450 E Indian School Rd             phoenix   \n",
       "2                                    5981 Andrews Rd  mentor on the lake   \n",
       "3  Center Core - Food Court, Fl 3, Pittsburgh Int...          pittsburgh   \n",
       "4                              6055 E Lake Mead Blvd           las vegas   \n",
       "\n",
       "  state  postal_code   latitude   longitude  stars  review_count   ...     \\\n",
       "0    NC      28210.0  35.092564  -80.859132    4.0           170   ...      \n",
       "1    AZ      85016.0  33.495194 -112.028588    3.0            18   ...      \n",
       "2    OH      44060.0  41.708520  -81.359556    4.0            16   ...      \n",
       "3    PA      15231.0  40.496177  -80.246011    4.0            35   ...      \n",
       "4    NV      89156.0  36.195615 -115.040529    4.5           184   ...      \n",
       "\n",
       "  slovakian australian pub food  south african  soba  calabrian  pita  \\\n",
       "0         0          0        0              0     0          0     0   \n",
       "1         0          0        0              0     0          0     0   \n",
       "2         0          0        0              0     0          0     0   \n",
       "3         0          0        0              0     0          0     0   \n",
       "4         0          0        0              0     0          0     0   \n",
       "\n",
       "   hong kong style cafe  churros  iberian  \n",
       "0                     0        0        0  \n",
       "1                     0        0        0  \n",
       "2                     0        0        0  \n",
       "3                     0        0        0  \n",
       "4                     0        0        0  \n",
       "\n",
       "[5 rows x 246 columns]"
      ]
     },
     "execution_count": 31,
     "metadata": {},
     "output_type": "execute_result"
    }
   ],
   "source": [
    "business_data_cleaned.head()"
   ]
  },
  {
   "cell_type": "code",
   "execution_count": 34,
   "metadata": {},
   "outputs": [
    {
     "data": {
      "text/plain": [
       "Unnamed: 0              int64\n",
       "geometry               object\n",
       "icon                   object\n",
       "id                     object\n",
       "name                   object\n",
       "opening_hours          object\n",
       "permanently_closed     object\n",
       "photos                 object\n",
       "place_id               object\n",
       "plus_code              object\n",
       "price_level           float64\n",
       "rating                float64\n",
       "reference              object\n",
       "scope                  object\n",
       "types                  object\n",
       "user_ratings_total    float64\n",
       "vicinity               object\n",
       "dtype: object"
      ]
     },
     "execution_count": 34,
     "metadata": {},
     "output_type": "execute_result"
    }
   ],
   "source": [
    "Restaurants_nearby_all.dtypes"
   ]
  },
  {
   "cell_type": "code",
   "execution_count": 39,
   "metadata": {},
   "outputs": [
    {
     "data": {
      "text/plain": [
       "\"{'location': {'lat': 41.44309079999999, 'lng': -82.16523660000001}, 'viewport': {'northeast': {'lat': 41.4445427802915, 'lng': -82.1638596197085}, 'southwest': {'lat': 41.4418448197085, 'lng': -82.16655758029151}}}\""
      ]
     },
     "execution_count": 39,
     "metadata": {},
     "output_type": "execute_result"
    }
   ],
   "source": [
    "Restaurants_nearby_all['geometry'][0]\n",
    "pattern = \"'lat'\\:+.[,]\"\n"
   ]
  },
  {
   "cell_type": "code",
   "execution_count": 9,
   "metadata": {},
   "outputs": [
    {
     "data": {
      "text/plain": [
       "0"
      ]
     },
     "execution_count": 9,
     "metadata": {},
     "output_type": "execute_result"
    }
   ],
   "source": [
    "sum((business_data_cleaned['business_id'].isin(Restaurants_nearby_all['place_id'])))"
   ]
  },
  {
   "cell_type": "code",
   "execution_count": 22,
   "metadata": {},
   "outputs": [],
   "source": [
    "Restaurants_nearby_all['name'] = Restaurants_nearby_all['name'].str.lower()\n",
    "business_data_cleaned['name'] = business_data_cleaned['name'].str.lower()"
   ]
  },
  {
   "cell_type": "code",
   "execution_count": 24,
   "metadata": {},
   "outputs": [
    {
     "data": {
      "text/plain": [
       "2777"
      ]
     },
     "execution_count": 24,
     "metadata": {},
     "output_type": "execute_result"
    }
   ],
   "source": [
    "len((Restaurants_nearby_all[- (Restaurants_nearby_all['name'].isin(business_data_cleaned['name']))]))"
   ]
  },
  {
   "cell_type": "markdown",
   "metadata": {},
   "source": [
    "Percentage of overlap"
   ]
  },
  {
   "cell_type": "code",
   "execution_count": 28,
   "metadata": {},
   "outputs": [
    {
     "data": {
      "text/plain": [
       "11.198"
      ]
     },
     "execution_count": 28,
     "metadata": {},
     "output_type": "execute_result"
    }
   ],
   "source": [
    "round(len((Restaurants_nearby_all[- (Restaurants_nearby_all['name'].isin(business_data_cleaned['name']))])) \\\n",
    "*100/len(business_data_cleaned),3)"
   ]
  },
  {
   "cell_type": "code",
   "execution_count": 15,
   "metadata": {},
   "outputs": [
    {
     "data": {
      "text/plain": [
       "(24800, 9954)"
      ]
     },
     "execution_count": 15,
     "metadata": {},
     "output_type": "execute_result"
    }
   ],
   "source": [
    "len(business_data_cleaned), len(Restaurants_nearby_all)"
   ]
  },
  {
   "cell_type": "code",
   "execution_count": null,
   "metadata": {},
   "outputs": [],
   "source": []
  },
  {
   "cell_type": "code",
   "execution_count": null,
   "metadata": {},
   "outputs": [],
   "source": []
  },
  {
   "cell_type": "markdown",
   "metadata": {},
   "source": [
    "# Calling the places detail API over the non overlapping data"
   ]
  },
  {
   "cell_type": "code",
   "execution_count": 3,
   "metadata": {},
   "outputs": [],
   "source": [
    "Places_nonoverlapping = pd.read_csv('Places_nonoverlapping.csv')"
   ]
  },
  {
   "cell_type": "code",
   "execution_count": 7,
   "metadata": {},
   "outputs": [
    {
     "data": {
      "text/html": [
       "<div>\n",
       "<style scoped>\n",
       "    .dataframe tbody tr th:only-of-type {\n",
       "        vertical-align: middle;\n",
       "    }\n",
       "\n",
       "    .dataframe tbody tr th {\n",
       "        vertical-align: top;\n",
       "    }\n",
       "\n",
       "    .dataframe thead th {\n",
       "        text-align: right;\n",
       "    }\n",
       "</style>\n",
       "<table border=\"1\" class=\"dataframe\">\n",
       "  <thead>\n",
       "    <tr style=\"text-align: right;\">\n",
       "      <th></th>\n",
       "      <th>Unnamed: 0</th>\n",
       "      <th>id</th>\n",
       "      <th>name</th>\n",
       "      <th>opening_hours</th>\n",
       "      <th>place_id</th>\n",
       "      <th>plus_code</th>\n",
       "      <th>price_level</th>\n",
       "      <th>rating</th>\n",
       "      <th>reference</th>\n",
       "      <th>scope</th>\n",
       "      <th>user_ratings_total</th>\n",
       "      <th>vicinity</th>\n",
       "      <th>Latitude</th>\n",
       "      <th>Longitude</th>\n",
       "      <th>location_coordinates</th>\n",
       "      <th>rating_bucket</th>\n",
       "    </tr>\n",
       "  </thead>\n",
       "  <tbody>\n",
       "    <tr>\n",
       "      <th>0</th>\n",
       "      <td>0</td>\n",
       "      <td>231f6b3e930705781173dee815951403f29bb0ba</td>\n",
       "      <td>scorcher's casual eatery &amp; draft house</td>\n",
       "      <td>{'open_now': True}</td>\n",
       "      <td>ChIJ41J07AKdMIgR7qeRTjC3oGI</td>\n",
       "      <td>{'compound_code': 'FR7G+5Q Lorain, Sheffield T...</td>\n",
       "      <td>2.0</td>\n",
       "      <td>4.0</td>\n",
       "      <td>ChIJ41J07AKdMIgR7qeRTjC3oGI</td>\n",
       "      <td>GOOGLE</td>\n",
       "      <td>242.0</td>\n",
       "      <td>900 Broadway Avenue, Lorain</td>\n",
       "      <td>41.462951</td>\n",
       "      <td>-82.173103</td>\n",
       "      <td>POINT (-82.1731035 41.46295079999999)</td>\n",
       "      <td>4</td>\n",
       "    </tr>\n",
       "    <tr>\n",
       "      <th>1</th>\n",
       "      <td>1</td>\n",
       "      <td>cdd9473756d09af73843faccb3b2e7415fdd919d</td>\n",
       "      <td>american slovak club</td>\n",
       "      <td>{'open_now': True}</td>\n",
       "      <td>ChIJdS9o4FGcMIgR8TvM0-RZSX8</td>\n",
       "      <td>{'compound_code': 'CRVP+J4 Lorain, Sheffield T...</td>\n",
       "      <td>2.0</td>\n",
       "      <td>4.5</td>\n",
       "      <td>ChIJdS9o4FGcMIgR8TvM0-RZSX8</td>\n",
       "      <td>GOOGLE</td>\n",
       "      <td>277.0</td>\n",
       "      <td>2915 Broadway Avenue, Lorain</td>\n",
       "      <td>41.444117</td>\n",
       "      <td>-82.164648</td>\n",
       "      <td>POINT (-82.16464809999999 41.44411710000001)</td>\n",
       "      <td>4</td>\n",
       "    </tr>\n",
       "    <tr>\n",
       "      <th>2</th>\n",
       "      <td>2</td>\n",
       "      <td>2f95c497755af6f55a8d16ec77f2e0640e20be44</td>\n",
       "      <td>yala's pizzeria</td>\n",
       "      <td>{'open_now': True}</td>\n",
       "      <td>ChIJN9j6ZLmdMIgRuIjJAzbrc5M</td>\n",
       "      <td>{'compound_code': 'CRR7+2Q Lorain, Sheffield T...</td>\n",
       "      <td>2.0</td>\n",
       "      <td>4.6</td>\n",
       "      <td>ChIJN9j6ZLmdMIgRuIjJAzbrc5M</td>\n",
       "      <td>GOOGLE</td>\n",
       "      <td>191.0</td>\n",
       "      <td>3352 Oberlin Avenue, Lorain</td>\n",
       "      <td>41.440093</td>\n",
       "      <td>-82.185601</td>\n",
       "      <td>POINT (-82.18560060000001 41.44009329999999)</td>\n",
       "      <td>5</td>\n",
       "    </tr>\n",
       "    <tr>\n",
       "      <th>3</th>\n",
       "      <td>3</td>\n",
       "      <td>572983b6565dc04ef54c07c2c1e248c923d612f7</td>\n",
       "      <td>bascule brewery and public house</td>\n",
       "      <td>{'open_now': True}</td>\n",
       "      <td>ChIJVVVVVRydMIgRG5VSst18Snk</td>\n",
       "      <td>{'compound_code': 'FR8V+85 Lorain, Sheffield T...</td>\n",
       "      <td>2.0</td>\n",
       "      <td>4.7</td>\n",
       "      <td>ChIJVVVVVRydMIgRG5VSst18Snk</td>\n",
       "      <td>GOOGLE</td>\n",
       "      <td>83.0</td>\n",
       "      <td>1397 Colorado Avenue, Lorain</td>\n",
       "      <td>41.465784</td>\n",
       "      <td>-82.157101</td>\n",
       "      <td>POINT (-82.1571014 41.46578379999999)</td>\n",
       "      <td>5</td>\n",
       "    </tr>\n",
       "    <tr>\n",
       "      <th>4</th>\n",
       "      <td>4</td>\n",
       "      <td>37f64b9d486e4344f2e9512515dbf8afc8d76aa5</td>\n",
       "      <td>subway restaurants</td>\n",
       "      <td>{'open_now': True}</td>\n",
       "      <td>ChIJGdKqMNpuK4cRJYpiriPY4Ck</td>\n",
       "      <td>{'compound_code': 'JVRC+2F Phoenix, Arizona, U...</td>\n",
       "      <td>1.0</td>\n",
       "      <td>3.9</td>\n",
       "      <td>ChIJGdKqMNpuK4cRJYpiriPY4Ck</td>\n",
       "      <td>GOOGLE</td>\n",
       "      <td>67.0</td>\n",
       "      <td>3210 W Bell Rd Suite 100 Upton Plaza Shopping ...</td>\n",
       "      <td>33.640122</td>\n",
       "      <td>-112.128793</td>\n",
       "      <td>POINT (-112.1287932 33.64012189999999)</td>\n",
       "      <td>4</td>\n",
       "    </tr>\n",
       "  </tbody>\n",
       "</table>\n",
       "</div>"
      ],
      "text/plain": [
       "   Unnamed: 0                                        id  \\\n",
       "0           0  231f6b3e930705781173dee815951403f29bb0ba   \n",
       "1           1  cdd9473756d09af73843faccb3b2e7415fdd919d   \n",
       "2           2  2f95c497755af6f55a8d16ec77f2e0640e20be44   \n",
       "3           3  572983b6565dc04ef54c07c2c1e248c923d612f7   \n",
       "4           4  37f64b9d486e4344f2e9512515dbf8afc8d76aa5   \n",
       "\n",
       "                                     name       opening_hours  \\\n",
       "0  scorcher's casual eatery & draft house  {'open_now': True}   \n",
       "1                    american slovak club  {'open_now': True}   \n",
       "2                         yala's pizzeria  {'open_now': True}   \n",
       "3        bascule brewery and public house  {'open_now': True}   \n",
       "4                      subway restaurants  {'open_now': True}   \n",
       "\n",
       "                      place_id  \\\n",
       "0  ChIJ41J07AKdMIgR7qeRTjC3oGI   \n",
       "1  ChIJdS9o4FGcMIgR8TvM0-RZSX8   \n",
       "2  ChIJN9j6ZLmdMIgRuIjJAzbrc5M   \n",
       "3  ChIJVVVVVRydMIgRG5VSst18Snk   \n",
       "4  ChIJGdKqMNpuK4cRJYpiriPY4Ck   \n",
       "\n",
       "                                           plus_code  price_level  rating  \\\n",
       "0  {'compound_code': 'FR7G+5Q Lorain, Sheffield T...          2.0     4.0   \n",
       "1  {'compound_code': 'CRVP+J4 Lorain, Sheffield T...          2.0     4.5   \n",
       "2  {'compound_code': 'CRR7+2Q Lorain, Sheffield T...          2.0     4.6   \n",
       "3  {'compound_code': 'FR8V+85 Lorain, Sheffield T...          2.0     4.7   \n",
       "4  {'compound_code': 'JVRC+2F Phoenix, Arizona, U...          1.0     3.9   \n",
       "\n",
       "                     reference   scope  user_ratings_total  \\\n",
       "0  ChIJ41J07AKdMIgR7qeRTjC3oGI  GOOGLE               242.0   \n",
       "1  ChIJdS9o4FGcMIgR8TvM0-RZSX8  GOOGLE               277.0   \n",
       "2  ChIJN9j6ZLmdMIgRuIjJAzbrc5M  GOOGLE               191.0   \n",
       "3  ChIJVVVVVRydMIgRG5VSst18Snk  GOOGLE                83.0   \n",
       "4  ChIJGdKqMNpuK4cRJYpiriPY4Ck  GOOGLE                67.0   \n",
       "\n",
       "                                            vicinity   Latitude   Longitude  \\\n",
       "0                        900 Broadway Avenue, Lorain  41.462951  -82.173103   \n",
       "1                       2915 Broadway Avenue, Lorain  41.444117  -82.164648   \n",
       "2                        3352 Oberlin Avenue, Lorain  41.440093  -82.185601   \n",
       "3                       1397 Colorado Avenue, Lorain  41.465784  -82.157101   \n",
       "4  3210 W Bell Rd Suite 100 Upton Plaza Shopping ...  33.640122 -112.128793   \n",
       "\n",
       "                           location_coordinates  rating_bucket  \n",
       "0         POINT (-82.1731035 41.46295079999999)              4  \n",
       "1  POINT (-82.16464809999999 41.44411710000001)              4  \n",
       "2  POINT (-82.18560060000001 41.44009329999999)              5  \n",
       "3         POINT (-82.1571014 41.46578379999999)              5  \n",
       "4        POINT (-112.1287932 33.64012189999999)              4  "
      ]
     },
     "execution_count": 7,
     "metadata": {},
     "output_type": "execute_result"
    }
   ],
   "source": [
    "Places_nonoverlapping.head()"
   ]
  },
  {
   "cell_type": "code",
   "execution_count": 14,
   "metadata": {},
   "outputs": [],
   "source": [
    "my_fields = ['rating','review']"
   ]
  },
  {
   "cell_type": "code",
   "execution_count": 22,
   "metadata": {},
   "outputs": [],
   "source": [
    "Place_details_all = dict()"
   ]
  },
  {
   "cell_type": "code",
   "execution_count": null,
   "metadata": {},
   "outputs": [],
   "source": []
  },
  {
   "cell_type": "markdown",
   "metadata": {},
   "source": [
    "## DO NOT RUN AGAIN"
   ]
  },
  {
   "cell_type": "code",
   "execution_count": 56,
   "metadata": {},
   "outputs": [
    {
     "name": "stdout",
     "output_type": "stream",
     "text": [
      "'reviews'\n",
      "'reviews'\n",
      "'reviews'\n",
      "'reviews'\n",
      "'reviews'\n",
      "'reviews'\n",
      "'reviews'\n",
      "'reviews'\n",
      "'reviews'\n",
      "'reviews'\n",
      "'reviews'\n",
      "'reviews'\n",
      "'reviews'\n",
      "'reviews'\n",
      "'reviews'\n",
      "'reviews'\n",
      "'reviews'\n",
      "'reviews'\n",
      "'reviews'\n",
      "'reviews'\n",
      "'reviews'\n",
      "'reviews'\n",
      "'reviews'\n",
      "'reviews'\n",
      "'reviews'\n",
      "'reviews'\n",
      "'reviews'\n",
      "'reviews'\n",
      "'reviews'\n",
      "'reviews'\n",
      "'reviews'\n",
      "API key is invalid\n",
      "'reviews'\n",
      "'reviews'\n",
      "'reviews'\n",
      "'reviews'\n",
      "'reviews'\n",
      "'reviews'\n",
      "'reviews'\n",
      "'reviews'\n",
      "'reviews'\n",
      "'reviews'\n",
      "'reviews'\n",
      "'reviews'\n",
      "'reviews'\n",
      "'reviews'\n",
      "'reviews'\n",
      "'reviews'\n",
      "'reviews'\n",
      "'reviews'\n",
      "'reviews'\n",
      "'reviews'\n",
      "'reviews'\n",
      "'reviews'\n",
      "'reviews'\n",
      "'reviews'\n",
      "'reviews'\n",
      "'reviews'\n",
      "'reviews'\n",
      "'reviews'\n",
      "'reviews'\n",
      "'reviews'\n",
      "'reviews'\n",
      "'reviews'\n",
      "'reviews'\n",
      "'reviews'\n",
      "API key is invalid\n",
      "'reviews'\n",
      "'reviews'\n",
      "'reviews'\n",
      "'reviews'\n",
      "'reviews'\n",
      "'reviews'\n",
      "'reviews'\n",
      "'reviews'\n",
      "'reviews'\n",
      "'reviews'\n",
      "'reviews'\n",
      "'reviews'\n",
      "'reviews'\n",
      "'reviews'\n",
      "'reviews'\n",
      "'reviews'\n",
      "'reviews'\n",
      "'reviews'\n"
     ]
    }
   ],
   "source": [
    "for i in range(len(Places_nonoverlapping)):\n",
    "    if i == 0:\n",
    "        try:\n",
    "            rest_d = gmaps.place(place_id= Places_nonoverlapping['place_id'][i],fields= my_fields)\n",
    "            place_detail_df_all = pd.DataFrame(rest_d['result']['reviews'])\n",
    "            place_detail_df_all['place_id'] = Places_nonoverlapping['place_id'][i]\n",
    "        except KeyError as e:\n",
    "            print(e)\n",
    "        except gm.exceptions.ApiError as err :\n",
    "            print('API key is invalid')\n",
    "            \n",
    "    else:\n",
    "        try:\n",
    "            rest_d = gmaps.place(place_id= Places_nonoverlapping['place_id'][i],fields= my_fields)\n",
    "            place_detail_df = pd.DataFrame(rest_d['result']['reviews'])\n",
    "            place_detail_df['place_id'] = Places_nonoverlapping['place_id'][i]\n",
    "            place_detail_df_all = place_detail_df_all.append(place_detail_df)\n",
    "        except KeyError as e:\n",
    "            print(e)\n",
    "        except gm.exceptions.ApiError as err :\n",
    "            print('API key is invalid')"
   ]
  },
  {
   "cell_type": "code",
   "execution_count": null,
   "metadata": {},
   "outputs": [],
   "source": []
  },
  {
   "cell_type": "code",
   "execution_count": null,
   "metadata": {},
   "outputs": [],
   "source": []
  },
  {
   "cell_type": "code",
   "execution_count": null,
   "metadata": {},
   "outputs": [],
   "source": []
  },
  {
   "cell_type": "code",
   "execution_count": 57,
   "metadata": {},
   "outputs": [
    {
     "data": {
      "text/plain": [
       "2543"
      ]
     },
     "execution_count": 57,
     "metadata": {},
     "output_type": "execute_result"
    }
   ],
   "source": [
    "len(place_detail_df_all['place_id'].unique())"
   ]
  },
  {
   "cell_type": "code",
   "execution_count": 59,
   "metadata": {},
   "outputs": [
    {
     "data": {
      "text/html": [
       "<div>\n",
       "<style scoped>\n",
       "    .dataframe tbody tr th:only-of-type {\n",
       "        vertical-align: middle;\n",
       "    }\n",
       "\n",
       "    .dataframe tbody tr th {\n",
       "        vertical-align: top;\n",
       "    }\n",
       "\n",
       "    .dataframe thead th {\n",
       "        text-align: right;\n",
       "    }\n",
       "</style>\n",
       "<table border=\"1\" class=\"dataframe\">\n",
       "  <thead>\n",
       "    <tr style=\"text-align: right;\">\n",
       "      <th></th>\n",
       "      <th>author_name</th>\n",
       "      <th>author_url</th>\n",
       "      <th>language</th>\n",
       "      <th>place_id</th>\n",
       "      <th>profile_photo_url</th>\n",
       "      <th>rating</th>\n",
       "      <th>relative_time_description</th>\n",
       "      <th>text</th>\n",
       "      <th>time</th>\n",
       "    </tr>\n",
       "  </thead>\n",
       "  <tbody>\n",
       "    <tr>\n",
       "      <th>0</th>\n",
       "      <td>Stephen O'Ryan</td>\n",
       "      <td>https://www.google.com/maps/contrib/1143032008...</td>\n",
       "      <td>en</td>\n",
       "      <td>ChIJ41J07AKdMIgR7qeRTjC3oGI</td>\n",
       "      <td>https://lh4.googleusercontent.com/-lvtilWu9NbM...</td>\n",
       "      <td>4</td>\n",
       "      <td>a month ago</td>\n",
       "      <td>Pretty good food, great burgers, and always mu...</td>\n",
       "      <td>1551493659</td>\n",
       "    </tr>\n",
       "    <tr>\n",
       "      <th>1</th>\n",
       "      <td>Michael Rosa</td>\n",
       "      <td>https://www.google.com/maps/contrib/1076610251...</td>\n",
       "      <td>en</td>\n",
       "      <td>ChIJ41J07AKdMIgR7qeRTjC3oGI</td>\n",
       "      <td>https://lh3.googleusercontent.com/-PzDG3nDhXzs...</td>\n",
       "      <td>4</td>\n",
       "      <td>in the last week</td>\n",
       "      <td>This is nice little hidden gem in downtown lor...</td>\n",
       "      <td>1554081605</td>\n",
       "    </tr>\n",
       "    <tr>\n",
       "      <th>2</th>\n",
       "      <td>Russ Hazel</td>\n",
       "      <td>https://www.google.com/maps/contrib/1085331096...</td>\n",
       "      <td>en</td>\n",
       "      <td>ChIJ41J07AKdMIgR7qeRTjC3oGI</td>\n",
       "      <td>https://lh5.googleusercontent.com/-UrP4rMb1VQM...</td>\n",
       "      <td>1</td>\n",
       "      <td>2 weeks ago</td>\n",
       "      <td>Very poor service. Price gouging,  not honorin...</td>\n",
       "      <td>1553178427</td>\n",
       "    </tr>\n",
       "    <tr>\n",
       "      <th>3</th>\n",
       "      <td>Christine Brill</td>\n",
       "      <td>https://www.google.com/maps/contrib/1000329243...</td>\n",
       "      <td>en</td>\n",
       "      <td>ChIJ41J07AKdMIgR7qeRTjC3oGI</td>\n",
       "      <td>https://lh4.googleusercontent.com/-mS4Jlw-NUA8...</td>\n",
       "      <td>1</td>\n",
       "      <td>in the last week</td>\n",
       "      <td>Atmosphere was good. Dont get the chili nachos...</td>\n",
       "      <td>1554520340</td>\n",
       "    </tr>\n",
       "    <tr>\n",
       "      <th>4</th>\n",
       "      <td>Geneva Willis</td>\n",
       "      <td>https://www.google.com/maps/contrib/1061015239...</td>\n",
       "      <td>en</td>\n",
       "      <td>ChIJ41J07AKdMIgR7qeRTjC3oGI</td>\n",
       "      <td>https://lh5.googleusercontent.com/-v4OZmNFbmMY...</td>\n",
       "      <td>4</td>\n",
       "      <td>2 weeks ago</td>\n",
       "      <td>Good wings good drinks fast service</td>\n",
       "      <td>1552876556</td>\n",
       "    </tr>\n",
       "  </tbody>\n",
       "</table>\n",
       "</div>"
      ],
      "text/plain": [
       "       author_name                                         author_url  \\\n",
       "0   Stephen O'Ryan  https://www.google.com/maps/contrib/1143032008...   \n",
       "1     Michael Rosa  https://www.google.com/maps/contrib/1076610251...   \n",
       "2       Russ Hazel  https://www.google.com/maps/contrib/1085331096...   \n",
       "3  Christine Brill  https://www.google.com/maps/contrib/1000329243...   \n",
       "4    Geneva Willis  https://www.google.com/maps/contrib/1061015239...   \n",
       "\n",
       "  language                     place_id  \\\n",
       "0       en  ChIJ41J07AKdMIgR7qeRTjC3oGI   \n",
       "1       en  ChIJ41J07AKdMIgR7qeRTjC3oGI   \n",
       "2       en  ChIJ41J07AKdMIgR7qeRTjC3oGI   \n",
       "3       en  ChIJ41J07AKdMIgR7qeRTjC3oGI   \n",
       "4       en  ChIJ41J07AKdMIgR7qeRTjC3oGI   \n",
       "\n",
       "                                   profile_photo_url  rating  \\\n",
       "0  https://lh4.googleusercontent.com/-lvtilWu9NbM...       4   \n",
       "1  https://lh3.googleusercontent.com/-PzDG3nDhXzs...       4   \n",
       "2  https://lh5.googleusercontent.com/-UrP4rMb1VQM...       1   \n",
       "3  https://lh4.googleusercontent.com/-mS4Jlw-NUA8...       1   \n",
       "4  https://lh5.googleusercontent.com/-v4OZmNFbmMY...       4   \n",
       "\n",
       "  relative_time_description  \\\n",
       "0               a month ago   \n",
       "1          in the last week   \n",
       "2               2 weeks ago   \n",
       "3          in the last week   \n",
       "4               2 weeks ago   \n",
       "\n",
       "                                                text        time  \n",
       "0  Pretty good food, great burgers, and always mu...  1551493659  \n",
       "1  This is nice little hidden gem in downtown lor...  1554081605  \n",
       "2  Very poor service. Price gouging,  not honorin...  1553178427  \n",
       "3  Atmosphere was good. Dont get the chili nachos...  1554520340  \n",
       "4                Good wings good drinks fast service  1552876556  "
      ]
     },
     "execution_count": 59,
     "metadata": {},
     "output_type": "execute_result"
    }
   ],
   "source": [
    "place_detail_df_all.head()"
   ]
  },
  {
   "cell_type": "code",
   "execution_count": 60,
   "metadata": {},
   "outputs": [
    {
     "data": {
      "text/plain": [
       "Index(['author_name', 'author_url', 'language', 'place_id',\n",
       "       'profile_photo_url', 'rating', 'relative_time_description', 'text',\n",
       "       'time'],\n",
       "      dtype='object')"
      ]
     },
     "execution_count": 60,
     "metadata": {},
     "output_type": "execute_result"
    }
   ],
   "source": [
    "place_detail_df_all.keys()"
   ]
  },
  {
   "cell_type": "code",
   "execution_count": 61,
   "metadata": {},
   "outputs": [],
   "source": [
    "place_detail_df_all.to_csv('Place_detail_data.csv')"
   ]
  },
  {
   "cell_type": "code",
   "execution_count": null,
   "metadata": {},
   "outputs": [],
   "source": []
  },
  {
   "cell_type": "code",
   "execution_count": null,
   "metadata": {},
   "outputs": [],
   "source": []
  },
  {
   "cell_type": "code",
   "execution_count": null,
   "metadata": {},
   "outputs": [],
   "source": []
  },
  {
   "cell_type": "markdown",
   "metadata": {},
   "source": [
    "Reference Video: https://www.youtube.com/watch?v=qkSmuquMueA <br>\n",
    "Get your API: https://developers.google.com/places/web-service/get-api-key <br>\n",
    "Place detail function: https://developers.google.com/places/web-service/details <br>\n",
    "Repo for all googlemaps packages: https://github.com/googlemaps/google-maps-services-python/blob/master/googlemaps/places.py <br>"
   ]
  }
 ],
 "metadata": {
  "kernelspec": {
   "display_name": "Python 3",
   "language": "python",
   "name": "python3"
  },
  "language_info": {
   "codemirror_mode": {
    "name": "ipython",
    "version": 3
   },
   "file_extension": ".py",
   "mimetype": "text/x-python",
   "name": "python",
   "nbconvert_exporter": "python",
   "pygments_lexer": "ipython3",
   "version": "3.6.4"
  }
 },
 "nbformat": 4,
 "nbformat_minor": 2
}
